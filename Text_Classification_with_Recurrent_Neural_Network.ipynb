{
  "cells": [
    {
      "cell_type": "markdown",
      "metadata": {
        "id": "view-in-github",
        "colab_type": "text"
      },
      "source": [
        "<a href=\"https://colab.research.google.com/github/Hagar-zakaria/Building-a-Sentiment-Analysis-Model-with-IMDB-Movie-Reviews/blob/main/Text_Classification_with_Recurrent_Neural_Network.ipynb\" target=\"_parent\"><img src=\"https://colab.research.google.com/assets/colab-badge.svg\" alt=\"Open In Colab\"/></a>"
      ]
    },
    {
      "cell_type": "markdown",
      "metadata": {
        "id": "G02YHcTrxMsB"
      },
      "source": [
        "In this project, we will train a recurrent neural network on the IMDB large movie review dataset for sentiment analysis. The IMDB large movie review dataset is a binary classification dataset — all the reviews have either a positive or negative sentiment. For that, we will use TensorFlow datasets.\n",
        "\n"
      ]
    },
    {
      "cell_type": "markdown",
      "metadata": {
        "id": "T_PwPXYx8zjA"
      },
      "source": [
        "# Step-by-Step Project Implementation\n"
      ]
    },
    {
      "cell_type": "markdown",
      "metadata": {
        "id": "8fvgcbUs82TP"
      },
      "source": [
        "1. Install and Import Required Libraries\n"
      ]
    },
    {
      "cell_type": "markdown",
      "metadata": {
        "id": "sFj-KEeO86uh"
      },
      "source": [
        "First, install the required libraries (if not already installed):\n",
        "\n"
      ]
    },
    {
      "cell_type": "code",
      "execution_count": null,
      "metadata": {
        "colab": {
          "base_uri": "https://localhost:8080/"
        },
        "id": "_6HGEFUqviLA",
        "outputId": "1f6f3b22-7e6a-4483-ac40-9356098464b0"
      },
      "outputs": [
        {
          "name": "stdout",
          "output_type": "stream",
          "text": [
            "Requirement already satisfied: tensorflow-datasets in /usr/local/lib/python3.10/dist-packages (4.9.6)\n",
            "Requirement already satisfied: absl-py in /usr/local/lib/python3.10/dist-packages (from tensorflow-datasets) (1.4.0)\n",
            "Requirement already satisfied: click in /usr/local/lib/python3.10/dist-packages (from tensorflow-datasets) (8.1.7)\n",
            "Requirement already satisfied: dm-tree in /usr/local/lib/python3.10/dist-packages (from tensorflow-datasets) (0.1.8)\n",
            "Requirement already satisfied: immutabledict in /usr/local/lib/python3.10/dist-packages (from tensorflow-datasets) (4.2.0)\n",
            "Requirement already satisfied: numpy in /usr/local/lib/python3.10/dist-packages (from tensorflow-datasets) (1.26.4)\n",
            "Requirement already satisfied: promise in /usr/local/lib/python3.10/dist-packages (from tensorflow-datasets) (2.3)\n",
            "Requirement already satisfied: protobuf>=3.20 in /usr/local/lib/python3.10/dist-packages (from tensorflow-datasets) (3.20.3)\n",
            "Requirement already satisfied: psutil in /usr/local/lib/python3.10/dist-packages (from tensorflow-datasets) (5.9.5)\n",
            "Requirement already satisfied: pyarrow in /usr/local/lib/python3.10/dist-packages (from tensorflow-datasets) (16.1.0)\n",
            "Requirement already satisfied: requests>=2.19.0 in /usr/local/lib/python3.10/dist-packages (from tensorflow-datasets) (2.32.3)\n",
            "Requirement already satisfied: simple-parsing in /usr/local/lib/python3.10/dist-packages (from tensorflow-datasets) (0.1.6)\n",
            "Requirement already satisfied: tensorflow-metadata in /usr/local/lib/python3.10/dist-packages (from tensorflow-datasets) (1.15.0)\n",
            "Requirement already satisfied: termcolor in /usr/local/lib/python3.10/dist-packages (from tensorflow-datasets) (2.4.0)\n",
            "Requirement already satisfied: toml in /usr/local/lib/python3.10/dist-packages (from tensorflow-datasets) (0.10.2)\n",
            "Requirement already satisfied: tqdm in /usr/local/lib/python3.10/dist-packages (from tensorflow-datasets) (4.66.5)\n",
            "Requirement already satisfied: wrapt in /usr/local/lib/python3.10/dist-packages (from tensorflow-datasets) (1.16.0)\n",
            "Requirement already satisfied: array-record>=0.5.0 in /usr/local/lib/python3.10/dist-packages (from tensorflow-datasets) (0.5.1)\n",
            "Requirement already satisfied: etils>=1.6.0 in /usr/local/lib/python3.10/dist-packages (from etils[enp,epath,epy,etree]>=1.6.0; python_version < \"3.11\"->tensorflow-datasets) (1.9.4)\n",
            "Requirement already satisfied: typing_extensions in /usr/local/lib/python3.10/dist-packages (from etils[enp,epath,epy,etree]>=1.6.0; python_version < \"3.11\"->tensorflow-datasets) (4.12.2)\n",
            "Requirement already satisfied: fsspec in /usr/local/lib/python3.10/dist-packages (from etils[enp,epath,epy,etree]>=1.6.0; python_version < \"3.11\"->tensorflow-datasets) (2024.6.1)\n",
            "Requirement already satisfied: importlib_resources in /usr/local/lib/python3.10/dist-packages (from etils[enp,epath,epy,etree]>=1.6.0; python_version < \"3.11\"->tensorflow-datasets) (6.4.5)\n",
            "Requirement already satisfied: zipp in /usr/local/lib/python3.10/dist-packages (from etils[enp,epath,epy,etree]>=1.6.0; python_version < \"3.11\"->tensorflow-datasets) (3.20.2)\n",
            "Requirement already satisfied: charset-normalizer<4,>=2 in /usr/local/lib/python3.10/dist-packages (from requests>=2.19.0->tensorflow-datasets) (3.3.2)\n",
            "Requirement already satisfied: idna<4,>=2.5 in /usr/local/lib/python3.10/dist-packages (from requests>=2.19.0->tensorflow-datasets) (3.10)\n",
            "Requirement already satisfied: urllib3<3,>=1.21.1 in /usr/local/lib/python3.10/dist-packages (from requests>=2.19.0->tensorflow-datasets) (2.2.3)\n",
            "Requirement already satisfied: certifi>=2017.4.17 in /usr/local/lib/python3.10/dist-packages (from requests>=2.19.0->tensorflow-datasets) (2024.8.30)\n",
            "Requirement already satisfied: six in /usr/local/lib/python3.10/dist-packages (from promise->tensorflow-datasets) (1.16.0)\n",
            "Requirement already satisfied: docstring-parser<1.0,>=0.15 in /usr/local/lib/python3.10/dist-packages (from simple-parsing->tensorflow-datasets) (0.16)\n"
          ]
        }
      ],
      "source": [
        "!pip install tensorflow-datasets\n"
      ]
    },
    {
      "cell_type": "markdown",
      "metadata": {
        "id": "iazdqbva9IqO"
      },
      "source": [
        "Then, import the necessary libraries for the project.\n",
        "\n"
      ]
    },
    {
      "cell_type": "code",
      "execution_count": null,
      "metadata": {
        "id": "o8LAAV4U8-Wc"
      },
      "outputs": [],
      "source": [
        "import tensorflow as tf\n",
        "import tensorflow_datasets as tfds\n",
        "import matplotlib.pyplot as plt\n",
        "import numpy as np\n"
      ]
    },
    {
      "cell_type": "markdown",
      "metadata": {
        "id": "YwZkOkJ7_6gc"
      },
      "source": [
        "2. Load the IMDB Dataset"
      ]
    },
    {
      "cell_type": "markdown",
      "metadata": {
        "id": "6bzrG4lj_9uC"
      },
      "source": [
        "We will use TensorFlow Datasets to load the IMDB movie review dataset.\n",
        "\n"
      ]
    },
    {
      "cell_type": "code",
      "execution_count": null,
      "metadata": {
        "colab": {
          "base_uri": "https://localhost:8080/",
          "height": 116,
          "referenced_widgets": [
            "da7f1f90639e4b95ba558c8f6133a104",
            "2b29099622914a898ed70d55cf5720c8",
            "c9a7270632a94c68a394e1d14665bef0",
            "b5731825e06146bdad98791552890ff4",
            "8a138a2e5baa4db7a6ec24ee2a8922cf",
            "d41e015cb59f4f359cf2421c81134cb7",
            "a6ba61683d0a4579b227962f65d63b89",
            "bef86f3e3d884117aca6ead6f5c9dab1",
            "e1f503756d324f8a83aaa04547799092",
            "779baf86f6ef4836acc485212231bb20",
            "a6d412cd48c24dc3a2517d58038a1ed9",
            "644e4ff5a6fc4df7b8c4834adbb30ad7",
            "7f00a623591f4ea3b38206a998307b66",
            "4b402df8f38f4554af6f33a6203d8da7",
            "596437a730b444b7b422ac493b98be77",
            "d1a56000609b46108c0272ac52d48c05",
            "3384b21754a3476997dd85b69649c369",
            "bd10592986524e04a866af91a153eae9",
            "bba6f4a1a5f64ead94277a40762d6f11",
            "0c4a7f09146e4fe6b0f5d7726b14824f",
            "2cb912c2858640e599d01f5a55a50e01",
            "4c3c59b70c474f038f6782d8e00f6e1e",
            "2c4ba845403f48d08516e502399bbc2f",
            "2006899e1bb34e419d2e293302a6b42e",
            "2d7793dd5dc342c797e9def8d9645833",
            "fbc2683709504017ade57da1c57c3c37",
            "3a127b36ed4241b8b51d12430c4c1306",
            "36d9e2e8ae7e4e1a9bf59f69f140f124",
            "118a062702b946eba41803c3c62fb113",
            "104ce6ae1e9d46ca84df2ca8873a4c9e",
            "7ea841ed363a4b9cac5503697400baa2",
            "e36b1404fabb4dd7ad5894c68b1d1ffe",
            "383408fdaaa34933a9918839948e643e",
            "f50c3a287b194febb0d251497489c332",
            "fcd86f0b94a744b5b54f582f30298fe2",
            "ec85b7742e894e64a7789ea31f313a85",
            "61a6c592316f492f93d2c41427703a29",
            "033daa40fdbc4fc5bed1aeb7e7bdf490",
            "fd8b023a9b0644ccb8cb35043cf550de",
            "8929cc29a6a441d2b84f8c97b463518b",
            "c42eda9bcbeb44e793f378f3ee6a55c5",
            "4226be1dce4b40199d215f7cea7e34f4",
            "0ba1c8a114704cf7888e31bbba6bd4ed",
            "97721e891b7e400b91a3e2ef36fc4e83",
            "73366e2ca8e94cd5813da23462cd8def",
            "2e23b1c877fb4650bf0b367d5ccb70d9",
            "19a4b08b31a44ef18c5c031ed07f63f9",
            "ffc5781d554b4e6e91b86e7996cb87a2",
            "a9460f75b5fb4dceb6882b210c7365fd",
            "685b207e60854caf9f0c81697f534757",
            "c19ddc2d1bb0466794acf9c57c6c45ed",
            "d5fc527d02654c369eebbf5c90447916",
            "1d6f3ce643fb4c9baa61065d27fbbc72",
            "e4b9978daf7949bca1aac18725c67939",
            "2f4578dba1194f22a096a368a0def40a",
            "dd37a50c47e54d86bc0baa1c95e400eb",
            "32dd13c9d61f4176b70ead8e1291546c",
            "a8c6663cbf0641b0bc588e1248301dac",
            "96109cf6a2334add945bcc75e90f3fb9",
            "651b69d18edc4c00bded1aa3fefd8f54",
            "4cd5611472cb43e2ba4909ac977ac522",
            "bec792e45977463fb52f35c287b4f47c",
            "8a71b68ab08c4377a978175b670f19d9",
            "9a21f447d79c43fe87c0bb6c43e1d455",
            "89a3f772571249ccb0cbc7df277d5054",
            "73f0ec9ace8d471c8600fee6784628b0",
            "2144f390fdc242b38e88cab4fa7817a4",
            "91da8a8129c94c9f8e55c83264df9541",
            "dd669162df924c3f8cf38f3d289ccdee",
            "9a6cc409f3214efeb629ff538eb49247",
            "e3e3382038fe4708b98df1ffbeb825c9",
            "17f5eab40e004cd3bbdf9f4a40a843e8",
            "fb5174e2b79f4bc8ac2a97a9ff4614fa",
            "dbd01e60dc1345eda1e7b5a8803b2f9d",
            "24ffe1c269834c4798c7b1fc54fbcc60",
            "6014dee8f5094faab2ab7f2043eef2af",
            "2d11ec9da3b547b1a94797d6123b0e8a",
            "b5fa3375a8bd4e628481c190bdae0473",
            "f20b14ca876049d3b72f5058df41b18c",
            "8c67485ca3344f438a764411e051e65c",
            "a7cd3b6498994497871d56a7251c49ba",
            "f4c5fa746dba4f8b896f64d646082345",
            "5edd2615c6e04c3bbfa96e201e6891c9",
            "7fede0eb57284b8d88ffa74d4ab1c83a",
            "93989be534224100862062d7c5dc22db",
            "653e55c06aa045eeb0b9881fbe1706de",
            "182fd398e105427f8b815899155e218e",
            "c6ee878f804b4c7f862afd78178eb9fc",
            "2044af73feeb4781a669b87dfa4a6925",
            "ac62091d08e5402e843a26be0169570a",
            "43a98faf2120412e9f6cd600f87bc028",
            "3d95d92b9e0143e99d456cb00054b77d",
            "47016893bbe6496fb77e0bae94b12f51",
            "45c3e280a036494ab43aa78ecd228724",
            "f573f92d0375445cb1112fbbb1b2c069",
            "21f0b8beddd342558e22e0266fcd3e1a",
            "4390878bd4c84f44a6487a259720ccb9",
            "72c5f54174d04e8da7a43a45a3305aa6",
            "8faa4f3d7a8e4bc88314e4838c3ae5a5"
          ]
        },
        "id": "oyBIZOGx_2hf",
        "outputId": "e772735e-b5c0-47c4-a46b-3c4e6cd97547"
      },
      "outputs": [
        {
          "name": "stdout",
          "output_type": "stream",
          "text": [
            "Downloading and preparing dataset 80.23 MiB (download: 80.23 MiB, generated: Unknown size, total: 80.23 MiB) to /root/tensorflow_datasets/imdb_reviews/plain_text/1.0.0...\n"
          ]
        },
        {
          "data": {
            "application/vnd.jupyter.widget-view+json": {
              "model_id": "da7f1f90639e4b95ba558c8f6133a104",
              "version_major": 2,
              "version_minor": 0
            },
            "text/plain": [
              "Dl Completed...: 0 url [00:00, ? url/s]"
            ]
          },
          "metadata": {},
          "output_type": "display_data"
        },
        {
          "data": {
            "application/vnd.jupyter.widget-view+json": {
              "model_id": "644e4ff5a6fc4df7b8c4834adbb30ad7",
              "version_major": 2,
              "version_minor": 0
            },
            "text/plain": [
              "Dl Size...: 0 MiB [00:00, ? MiB/s]"
            ]
          },
          "metadata": {},
          "output_type": "display_data"
        },
        {
          "data": {
            "application/vnd.jupyter.widget-view+json": {
              "model_id": "2c4ba845403f48d08516e502399bbc2f",
              "version_major": 2,
              "version_minor": 0
            },
            "text/plain": [
              "Generating splits...:   0%|          | 0/3 [00:00<?, ? splits/s]"
            ]
          },
          "metadata": {},
          "output_type": "display_data"
        },
        {
          "data": {
            "application/vnd.jupyter.widget-view+json": {
              "model_id": "f50c3a287b194febb0d251497489c332",
              "version_major": 2,
              "version_minor": 0
            },
            "text/plain": [
              "Generating train examples...:   0%|          | 0/25000 [00:00<?, ? examples/s]"
            ]
          },
          "metadata": {},
          "output_type": "display_data"
        },
        {
          "data": {
            "application/vnd.jupyter.widget-view+json": {
              "model_id": "73366e2ca8e94cd5813da23462cd8def",
              "version_major": 2,
              "version_minor": 0
            },
            "text/plain": [
              "Shuffling /root/tensorflow_datasets/imdb_reviews/plain_text/incomplete.CL1DHN_1.0.0/imdb_reviews-train.tfrecor…"
            ]
          },
          "metadata": {},
          "output_type": "display_data"
        },
        {
          "data": {
            "application/vnd.jupyter.widget-view+json": {
              "model_id": "dd37a50c47e54d86bc0baa1c95e400eb",
              "version_major": 2,
              "version_minor": 0
            },
            "text/plain": [
              "Generating test examples...:   0%|          | 0/25000 [00:00<?, ? examples/s]"
            ]
          },
          "metadata": {},
          "output_type": "display_data"
        },
        {
          "data": {
            "application/vnd.jupyter.widget-view+json": {
              "model_id": "2144f390fdc242b38e88cab4fa7817a4",
              "version_major": 2,
              "version_minor": 0
            },
            "text/plain": [
              "Shuffling /root/tensorflow_datasets/imdb_reviews/plain_text/incomplete.CL1DHN_1.0.0/imdb_reviews-test.tfrecord…"
            ]
          },
          "metadata": {},
          "output_type": "display_data"
        },
        {
          "data": {
            "application/vnd.jupyter.widget-view+json": {
              "model_id": "b5fa3375a8bd4e628481c190bdae0473",
              "version_major": 2,
              "version_minor": 0
            },
            "text/plain": [
              "Generating unsupervised examples...:   0%|          | 0/50000 [00:00<?, ? examples/s]"
            ]
          },
          "metadata": {},
          "output_type": "display_data"
        },
        {
          "data": {
            "application/vnd.jupyter.widget-view+json": {
              "model_id": "2044af73feeb4781a669b87dfa4a6925",
              "version_major": 2,
              "version_minor": 0
            },
            "text/plain": [
              "Shuffling /root/tensorflow_datasets/imdb_reviews/plain_text/incomplete.CL1DHN_1.0.0/imdb_reviews-unsupervised.…"
            ]
          },
          "metadata": {},
          "output_type": "display_data"
        },
        {
          "name": "stdout",
          "output_type": "stream",
          "text": [
            "Dataset imdb_reviews downloaded and prepared to /root/tensorflow_datasets/imdb_reviews/plain_text/1.0.0. Subsequent calls will reuse this data.\n"
          ]
        }
      ],
      "source": [
        "dataset, info = tfds.load('imdb_reviews', with_info=True, as_supervised=True)\n",
        "train_dataset = dataset['train'].batch(32).shuffle(10000).prefetch(tf.data.AUTOTUNE)\n",
        "test_dataset = dataset['test'].batch(32).prefetch(tf.data.AUTOTUNE)\n"
      ]
    },
    {
      "cell_type": "markdown",
      "metadata": {
        "id": "0lNNxTUpBV3D"
      },
      "source": [
        "We load the dataset into two parts: training and testing. The as_supervised=True flag ensures we get the data in (text, label) format."
      ]
    },
    {
      "cell_type": "markdown",
      "metadata": {
        "id": "LaU0B1FuBp_I"
      },
      "source": [
        "- 'imdb_reviews': This specifies the dataset we are loading, which is the IMDB movie reviews dataset. It is a collection of 50,000 movie reviews labeled as either positive or negative.\n",
        "\n",
        "\n",
        "- as_supervised=True: This flag returns the dataset in a tuple format (input, label). For this dataset, it returns movie reviews as text and their corresponding sentiment as a label (0 for negative, 1 for positive).\n",
        "\n",
        "\n",
        "- train_dataset, test_dataset = dataset['train'], dataset['test']:\n",
        "\n",
        "This line splits the dataset into two parts:\n",
        "1. train_dataset: The training portion of the dataset (25,000 samples).\n",
        "2. test_dataset: The testing portion of the dataset (25,000 samples)."
      ]
    },
    {
      "cell_type": "code",
      "execution_count": null,
      "metadata": {
        "colab": {
          "base_uri": "https://localhost:8080/"
        },
        "id": "5l4WynEOemUD",
        "outputId": "8ec67cc3-421e-48ca-ff2f-a4badef15e18"
      },
      "outputs": [
        {
          "data": {
            "text/plain": [
              "tfds.core.DatasetInfo(\n",
              "    name='imdb_reviews',\n",
              "    full_name='imdb_reviews/plain_text/1.0.0',\n",
              "    description=\"\"\"\n",
              "    Large Movie Review Dataset. This is a dataset for binary sentiment\n",
              "    classification containing substantially more data than previous benchmark\n",
              "    datasets. We provide a set of 25,000 highly polar movie reviews for training,\n",
              "    and 25,000 for testing. There is additional unlabeled data for use as well.\n",
              "    \"\"\",\n",
              "    config_description=\"\"\"\n",
              "    Plain text\n",
              "    \"\"\",\n",
              "    homepage='http://ai.stanford.edu/~amaas/data/sentiment/',\n",
              "    data_dir=PosixGPath('/tmp/tmpbzz7hinytfds'),\n",
              "    file_format=tfrecord,\n",
              "    download_size=80.23 MiB,\n",
              "    dataset_size=129.83 MiB,\n",
              "    features=FeaturesDict({\n",
              "        'label': ClassLabel(shape=(), dtype=int64, num_classes=2),\n",
              "        'text': Text(shape=(), dtype=string),\n",
              "    }),\n",
              "    supervised_keys=('text', 'label'),\n",
              "    disable_shuffling=False,\n",
              "    splits={\n",
              "        'test': <SplitInfo num_examples=25000, num_shards=1>,\n",
              "        'train': <SplitInfo num_examples=25000, num_shards=1>,\n",
              "        'unsupervised': <SplitInfo num_examples=50000, num_shards=1>,\n",
              "    },\n",
              "    citation=\"\"\"@InProceedings{maas-EtAl:2011:ACL-HLT2011,\n",
              "      author    = {Maas, Andrew L.  and  Daly, Raymond E.  and  Pham, Peter T.  and  Huang, Dan  and  Ng, Andrew Y.  and  Potts, Christopher},\n",
              "      title     = {Learning Word Vectors for Sentiment Analysis},\n",
              "      booktitle = {Proceedings of the 49th Annual Meeting of the Association for Computational Linguistics: Human Language Technologies},\n",
              "      month     = {June},\n",
              "      year      = {2011},\n",
              "      address   = {Portland, Oregon, USA},\n",
              "      publisher = {Association for Computational Linguistics},\n",
              "      pages     = {142--150},\n",
              "      url       = {http://www.aclweb.org/anthology/P11-1015}\n",
              "    }\"\"\",\n",
              ")"
            ]
          },
          "execution_count": 4,
          "metadata": {},
          "output_type": "execute_result"
        }
      ],
      "source": [
        "info"
      ]
    },
    {
      "cell_type": "markdown",
      "metadata": {
        "id": "gBnCVVGUjbHN"
      },
      "source": [
        "Summary in Simple Words:\n",
        "- This dataset contains 50,000 IMDB movie reviews for the task of binary sentiment classification (positive or negative).\n",
        "- 25,000 reviews are for training, and 25,000 are for testing the model.\n",
        "-There's also an additional 50,000 unlabeled reviews for use in other tasks.\n",
        "- The dataset is stored in plain text format and is downloaded in TFRecord format.\n",
        "- The total download size is 80.23 MB, and after extracting, the dataset size is 129.83 MB.\n",
        "**Each review has two parts:**\n",
        "1. Text (the review itself).\n",
        "2. Label (either 0 for negative or 1 for positive).\n",
        "- It also provides the citation for proper attribution if used in academic work."
      ]
    },
    {
      "cell_type": "markdown",
      "metadata": {
        "id": "nNzaDf3hj2U0"
      },
      "source": [
        "**Train_dataset and test_dataset**"
      ]
    },
    {
      "cell_type": "code",
      "execution_count": null,
      "metadata": {
        "id": "PKtX-6ZqjU0L"
      },
      "outputs": [],
      "source": [
        "train_dataset, test_dataset = dataset['train'], dataset['test']"
      ]
    },
    {
      "cell_type": "markdown",
      "metadata": {
        "id": "Y6NpcHqmknqn"
      },
      "source": [
        "is calling the train and test data that is already pre-split in the dataset.\n",
        "\n",
        "**What the Code Does:**\n",
        "- dataset['train']: This retrieves the training data (25,000 labeled movie reviews) from the dataset.\n",
        "- dataset['test']: This retrieves the testing data (another 25,000 labeled movie reviews) from the dataset."
      ]
    },
    {
      "cell_type": "code",
      "execution_count": null,
      "metadata": {
        "colab": {
          "base_uri": "https://localhost:8080/"
        },
        "id": "oZYynOSJkZac",
        "outputId": "42fb8893-59d5-4ad4-b1a9-0364af827698"
      },
      "outputs": [
        {
          "data": {
            "text/plain": [
              "<_PrefetchDataset element_spec=(TensorSpec(shape=(), dtype=tf.string, name=None), TensorSpec(shape=(), dtype=tf.int64, name=None))>"
            ]
          },
          "execution_count": 6,
          "metadata": {},
          "output_type": "execute_result"
        }
      ],
      "source": [
        "train_dataset"
      ]
    },
    {
      "cell_type": "markdown",
      "metadata": {
        "id": "uxI2wvlxmqdX"
      },
      "source": [
        "You’re working with a PrefetchDataset, which helps speed up training by preloading data.\n",
        "**Each element in the dataset consists of two parts:**\n",
        "- A text review (string).\n",
        "- A label (integer, 0 or 1, for negative or positive sentiment).\n",
        "\n",
        "This dataset is ready to be passed to your machine learning model"
      ]
    },
    {
      "cell_type": "code",
      "execution_count": null,
      "metadata": {
        "colab": {
          "base_uri": "https://localhost:8080/"
        },
        "id": "3wuA_OYRk4qI",
        "outputId": "8fc877fc-b753-49bc-cb11-aed87dd7372e"
      },
      "outputs": [
        {
          "data": {
            "text/plain": [
              "<_PrefetchDataset element_spec=(TensorSpec(shape=(), dtype=tf.string, name=None), TensorSpec(shape=(), dtype=tf.int64, name=None))>"
            ]
          },
          "execution_count": 7,
          "metadata": {},
          "output_type": "execute_result"
        }
      ],
      "source": [
        "test_dataset"
      ]
    },
    {
      "cell_type": "markdown",
      "metadata": {
        "id": "Rm96XdCQnbsZ"
      },
      "source": [
        "- The test dataset contains text reviews and labels (positive or negative).\n",
        "- The data is preloaded in the background for faster processing.\n",
        "- The test dataset is used to evaluate how well the model performs on new, unseen data (to check if the model learned correctly during training)."
      ]
    },
    {
      "cell_type": "markdown",
      "metadata": {
        "id": "MNWXfhdBnjBg"
      },
      "source": [
        "**Take one train_dataset and view the text and label**"
      ]
    },
    {
      "cell_type": "code",
      "execution_count": null,
      "metadata": {
        "colab": {
          "base_uri": "https://localhost:8080/"
        },
        "id": "25F2YIHam2lt",
        "outputId": "cd657201-603c-4da4-960d-92ca4679da7f"
      },
      "outputs": [
        {
          "name": "stdout",
          "output_type": "stream",
          "text": [
            "Text:  b\"This was an absolutely terrible movie. Don't be lured in by Christopher Walken or Michael Ironside. Both are great actors, but this must simply be their worst role in history. Even their great acting could not redeem this movie's ridiculous storyline. This movie is an early nineties US propaganda piece. The most pathetic scenes were those when the Columbian rebels were making their cases for revolutions. Maria Conchita Alonso appeared phony, and her pseudo-love affair with Walken was nothing but a pathetic emotional plug in a movie that was devoid of any real meaning. I am disappointed that there are movies like this, ruining actor's like Christopher Walken's good name. I could barely sit through it.\"\n",
            "\n",
            "Label:  0\n"
          ]
        }
      ],
      "source": [
        "for text, label in train_dataset.take(1):\n",
        "    print('Text: ', text.numpy())\n",
        "    print('\\nLabel: ', label.numpy())\n",
        "    pass"
      ]
    },
    {
      "cell_type": "markdown",
      "metadata": {
        "id": "8kH8EvgktqhC"
      },
      "source": [
        "The code is printing one sample from the training dataset.\n",
        "**The sample includes:**\n",
        "- Text: A movie review, which is negative in this case.\n",
        "- Label: 0, meaning the review is classified as negative."
      ]
    },
    {
      "cell_type": "markdown",
      "metadata": {
        "id": "NYbJr03bt2tS"
      },
      "source": [
        "**Create batches of text and label for training dataset**\n",
        "\n",
        "\n",
        "First we will shuffle the data for training and create batches of text, label pairs."
      ]
    },
    {
      "cell_type": "markdown",
      "metadata": {
        "id": "uTy_dcNDvkqQ"
      },
      "source": [
        "**Why Batching and Shuffling Matter:**\n",
        "\n",
        "- Shuffling helps the model learn the real patterns in the data instead of learning based on any specific sequence.\n",
        "- Batching helps with memory management and makes the training process faster and more efficient."
      ]
    },
    {
      "cell_type": "markdown",
      "metadata": {
        "id": "VHi_sXPKwUyp"
      },
      "source": [
        "**Prefetching** is a technique that helps speed up the training process by preparing the next batch of data while the model is working on the current batch.\n",
        "\n",
        "**Here’s how it works:**\n",
        "\n",
        "- When the model is training on one set of data (step s), prefetching means that the next set of data (step s+1) is already being loaded in the background.\n",
        "- This way, when the model finishes its current step, the next batch of data is already ready to go. This reduces any waiting time for loading data, making the process faster."
      ]
    },
    {
      "cell_type": "markdown",
      "metadata": {
        "id": "QDaHgA6twqLN"
      },
      "source": [
        "**How it works in TensorFlow (tf.data):**\n",
        "\n",
        "- tf.data.Dataset.prefetch is a tool provided by TensorFlow that helps implement prefetching. It loads data in the background while the model trains.\n",
        "\n",
        "- The AUTOTUNE setting allows TensorFlow to automatically adjust how much data to prefetch based on the system's resources, so the process runs as efficiently as possible.\n"
      ]
    },
    {
      "cell_type": "code",
      "execution_count": null,
      "metadata": {
        "id": "2hAtnB2Wnp6J"
      },
      "outputs": [],
      "source": [
        "BUFFER_SIZE = 10000\n",
        "BATCH_SIZE = 64"
      ]
    },
    {
      "cell_type": "markdown",
      "metadata": {
        "id": "Bh5hTcxAxcdo"
      },
      "source": [
        "1. BUFFER_SIZE = 10000:\n",
        "\n",
        "**What it means:**\n",
        "\n",
        "- The BUFFER_SIZE controls how much data should be shuffled at once when preparing the data for training.\n",
        "\n",
        "In this case, 10000 means that 10,000 samples will be shuffled before each training epoch (or iteration).\n",
        "\n",
        "**Why it’s important:**\n",
        "\n",
        "- Shuffling the data helps ensure that the model doesn’t learn based on the order of the data (e.g., if all positive reviews come first and all negative ones come last).\n",
        "\n",
        "A large BUFFER_SIZE like 10000 ensures a good mix of the data before each training step, making the training process more robust."
      ]
    },
    {
      "cell_type": "markdown",
      "metadata": {
        "id": "uE1Sct8YxsDO"
      },
      "source": [
        "2. BATCH_SIZE = 64:\n",
        "\n",
        "\n",
        "**What it means:**\n",
        "\n",
        "- The BATCH_SIZE determines how many samples the model processes at once before updating its weights.\n",
        "\n",
        "- In this case, BATCH_SIZE = 64 means that the model will look at 64 reviews and their labels at a time before making adjustments (updating the model’s weights)."
      ]
    },
    {
      "cell_type": "code",
      "execution_count": null,
      "metadata": {
        "id": "Htb3Q32Sw8gA"
      },
      "outputs": [],
      "source": [
        "train_dataset = train_dataset.shuffle(BUFFER_SIZE).batch(BATCH_SIZE).prefetch(tf.data.AUTOTUNE)\n",
        "test_dataset = test_dataset.batch(BATCH_SIZE).prefetch(tf.data.AUTOTUNE)"
      ]
    },
    {
      "cell_type": "markdown",
      "metadata": {
        "id": "-ZiQ_0zsycKy"
      },
      "source": [
        "**Training Dataset:**\n",
        "\n",
        "- The training data is shuffled (to mix the samples).\n",
        "- Then it is divided into batches of 64.\n",
        "- Prefetching is used to load the next batch in the background while the model is training on the current batch, which makes training faster.\n",
        "\n",
        "**Test Dataset:**\n",
        "\n",
        "- The test data is also divided into batches of 64.\n",
        "- Prefetching is enabled for the test data, so the model doesn’t have to wait between batches when evaluating performance."
      ]
    },
    {
      "cell_type": "code",
      "execution_count": null,
      "metadata": {
        "colab": {
          "base_uri": "https://localhost:8080/"
        },
        "id": "oThv6uDUyEUD",
        "outputId": "c8cfb014-90c1-4e5c-d687-153619d742a0"
      },
      "outputs": [
        {
          "name": "stdout",
          "output_type": "stream",
          "text": [
            "texts:  [b'After watching this, I had lost a little respect for Christopher Lee (This has passed over time). This film was utter garbage. First, they tried to recreate the ending from the first \"Howling,\" with incredibly bad make-up. Then they try to turn it into a sad excuse of a werewolf porn film! The plot sucks and the whole film is just AWFUL!!!! A brother of a werewolf victim from the first film (From the look of it, it was SUPPOSED to be Dee Wallace Stone)teams up with Lee and another woman to destroy the group of werewolves, lead by Sybil Danning, who seems to be naked all the time.<br /><br />This is not even worth renting (Unless you want to waste your time and money watching the nudity.). Try to catch it on cable instead. It would be so chopped up, it may actually make sense.'\n",
            " b\"Starlift is a pleasant and interesting throwback to those all star musical pictures that every studio was putting out during the World War II years. When you've got such stars as Gary Cooper, James Cagney, Doris Day, Gordon MacRae, and Randolph Scott, etc., in the film and with such people as the Gershwin Brothers, Cole Porter, Jule Styne and Sammy Cahn supplying the music, it's an easy to take film. And the plot isn't even in the way.<br /><br />What plot there is involves two Air Force enlisted men, Dick Wesson and Ron Hagerthy, trying to meet Warner Brothers starlet Janice Rule using as a gimmick the fact that both come from Youngstown, Ohio and Hagerthy's father was Rule's dentist as well as half of the town's. The scheme works too well as Louella Parsons is soon putting them as an item in her column. Yes, Louella's in the film as well. She must have liked Warner Brothers or Jack Warner catered to her more than the other studio bosses because she also used this studio to publicize her Hollywood Hotel radio program back in the day.<br /><br />But the rest of the plot also touched on the real life efforts of Ruth Roman also playing herself to get her studio and others to do shows at the Air Force bases for the servicemen and women going to Korea. Some of the names I've mentioned and others sing and perform in a show at Travis Air Force Base where a lot of this film was shot.<br /><br />One specialty number was shot for the talents of Phil Harris who sing/narrates a ballad Look Out Stranger, I'm A Texas Ranger aided and assisted by Virginia Gibson, Frank Lovejoy and Gary Cooper. Yup, Cooper looked like he was having a great old time kidding his image.<br /><br />This is the oldest of clich\\xc3\\xa9s when you say they don't make them like this any more, but they really don't because you don't have a studio system that has all this talent under contract. That's one thing about the demise of the old studio system we can mourn.\"\n",
            " b'\"Fungicide\" is quite possibly the most incompetent, embarrassing, pitiful \"film\" I have ever seen. The acting is criminal, the direction practically non-existent, and the special effects presumably put together by unleashing a monkey with learning difficulties on a defenceless laptop computer.<br /><br />Far be it from me to stifle creativity, but I actually believe things like this shouldn\\'t be made. I am sure the \"film\"-makers will say that, yes, the \"film\" was hampered by a low (as in nothing) budget - but in that case they just really shouldn\\'t have bothered. As it is, they have offered the world something so dire, so execrable, that only imbeciles could get the merest shade of enjoyment from it.<br /><br />Starting the \"movie\" it wasn\\'t as though I was expecting \"Citizen Kane\" or anything. I was expecting a low budget little horror with perhaps a modicum of inventiveness, a hint of fun, and even some energy. What I got was the cinematic equivalent of a used handkerchief.<br /><br />The plot? Well, our leering antihero scientist, who works in his parents\\' basement, is seen manically stirring some goo in a cup. Apparently, such high-level science is the end-result of years of research. His parents then send him off to a strange hotel-type place in the countryside to relax. There are some other people there, who are simply too awful to write about. Anyway, the scientist drops his test-tube onto some mushrooms - and soon the mushrooms grow and kill some people. (Wow, I\\'m getting suicidal just writing the plot summary). Our heroes save the day by detonating a barrel of balsamic vinegar (by attaching a \"fuse\" - really a piece of string - to it). The barrel unaccountably explodes with the power of a small nuclear weapon, destroying all the mushrooms. The end. (Thank goodness).<br /><br />That summary is as good as the \"film\" gets (and actually makes it sound a lot more interesting than it actually is). It really should never have got past this stage of development (by which I mean a plot outline scribbled on the back of an envelope with crayons). Somebody should have really stepped in and given someone a vigorous shake and said \"NO.\" <br /><br />And those \"special\" effects. Well, they\\'re \"special\" all right. This is CGI gone crazy. And done by a person who I can only assume believes the bicycle pump to be the pinnacle of modern technology. And when the mushroom monsters are not in the style of a 1984 home computer graphics package, they are represented by actors shuffling along covered in a sheet (I kid you not).<br /><br />One of the most inexcusable things about the movie is its laziness. This can be summed up by the scene in which the hero spins his guns (a la Clint Eastwood) and then fails miserably to get them in his pockets. I mean come on, a couple of retakes and he could have pulled it off, but just to leave it as it is - really weak.<br /><br />I cannot believe money was spent on this camcorder-shot rubbish. The \"film\"-makers should hang their heads in shame and be banned from going within fifty metres of any movie-making equipment.<br /><br />I also think it\\'s wrong that friends and family of the makers come onto IMDb and post mendacious reviews and give stupidly high user ratings which give a totally inaccurate picture of the \"movie.\" \"Fungicide\" is an absolute travesty of film-making. Mr Wascavage is either very, very stupid or very, very cynical.']\n",
            "\n",
            "labels:  [0 1 0]\n"
          ]
        }
      ],
      "source": [
        "for text, label in train_dataset.take(1):\n",
        "    print('texts: ', text.numpy()[:3])\n",
        "    print('\\nlabels: ', label.numpy()[:3])"
      ]
    },
    {
      "cell_type": "markdown",
      "metadata": {
        "id": "sUJnXyfHay3n"
      },
      "source": [
        "**Output Explanation:**\n",
        "\n",
        "**Text Reviews:**\n",
        "\n",
        "You can see three reviews printed as text:\n",
        "\n",
        "- Review 1: A detailed review of the movie \"The Plainsman\", explaining the historical inaccuracies of the film.\n",
        "- Review 2: A negative review of a New Testament adaptation, criticizing the lead actor and the script.\n",
        "- Review 3: A quirky review of the film \"Phil the Alien\", where the reviewer initially finds the oddness funny but later loses interest.\n",
        "\n",
        "**Labels:**\n",
        "\n",
        "The labels associated with the reviews are [1, 0, 0], meaning:\n",
        "- Review 1: Label 1 → Positive review.\n",
        "- Review 2: Label 0 → Negative review.\n",
        "- Review 3: Label 0 → Negative review.\n",
        "\n",
        "**Summary:**\n",
        "\n",
        "- The code takes one batch of data from the training dataset.\n",
        "- It prints the first three text reviews and their sentiment labels.\n",
        "- 1 means the review is positive, while 0 means the review is negative."
      ]
    },
    {
      "cell_type": "markdown",
      "metadata": {
        "id": "1Xa1aSrabNWs"
      },
      "source": [
        "# **Create the text encoder**\n"
      ]
    },
    {
      "cell_type": "markdown",
      "metadata": {
        "id": "-uRlqJYQeaxs"
      },
      "source": [
        "In machine learning, raw text data (like movie reviews) cannot be directly fed into a model because models require numerical input, not words. This is where text preprocessing comes in.\n",
        "\n"
      ]
    },
    {
      "cell_type": "markdown",
      "metadata": {
        "id": "_81s3onRi-C6"
      },
      "source": [
        "tf.keras.layers.TextVectorization is a layer in TensorFlow that transforms raw text into an encoded representation.\n",
        "\n",
        "- It breaks the text into tokens (typically words).\n",
        "- Each word is then mapped to a number.\n",
        "- The output is a sequence of numbers (integers) that represents the words in the input text."
      ]
    },
    {
      "cell_type": "code",
      "execution_count": null,
      "metadata": {
        "colab": {
          "base_uri": "https://localhost:8080/"
        },
        "id": "Duog9gROymRT",
        "outputId": "c61d0aa3-aeda-40f1-a591-f99ac36ff956"
      },
      "outputs": [
        {
          "data": {
            "text/plain": [
              "<TextVectorization name=text_vectorization, built=False>"
            ]
          },
          "execution_count": 12,
          "metadata": {},
          "output_type": "execute_result"
        }
      ],
      "source": [
        "VOCAB_SIZE = 1000\n",
        "encoder = tf.keras.layers.TextVectorization(max_tokens = VOCAB_SIZE)\n",
        "encoder"
      ]
    },
    {
      "cell_type": "markdown",
      "metadata": {
        "id": "Y4YW76mgomDd"
      },
      "source": [
        "This line sets the vocabulary size to 1000.\n",
        "\n",
        "- The vocabulary size limits how many unique words or tokens the model will consider from the dataset. In this case, the model will only use the top 1000 most frequent words from the text data.\n",
        "\n",
        "- Words that are not in the top 1000 will be treated as \"unknown.\""
      ]
    },
    {
      "cell_type": "markdown",
      "metadata": {
        "id": "yIwlAoR_7jL3"
      },
      "source": [
        "**Summary**\n",
        "\n",
        "- VOCAB_SIZE = 1000: Limits the vocabulary to the top 1000 most frequent words.\n",
        "- encoder = TextVectorization(...): Creates a TextVectorization layer to convert text into numbers.\n",
        "- **TextVectorization name=text_vectorization, built=False**: Means the layer has been created, but it hasn’t yet been adapted (trained) to the text data."
      ]
    },
    {
      "cell_type": "markdown",
      "metadata": {
        "id": "3Mt-OPsxHHjx"
      },
      "source": [
        "**The adapt() function**\n",
        "\n",
        "helps the layer (like TextVectorization) learn from the words in the sentences.\n",
        "\n",
        "- This layer takes the words and assigns a number to each word (for example, \"movie\" = 1, \"great\" = 2).\n",
        "\n",
        "- After that, every sentence with those words will be converted to numbers instead of words.\n",
        "\n",
        "- This helps the model train on the numbers that represent the sentences, instead of trying to train on text that it can't understand.\n",
        "\n",
        "**The Main Idea:**\n",
        "\n",
        "- The model can't understand text directly; it needs the words to be converted to numbers.\n",
        "- The adapt() function teaches the TextVectorization layer to map each word to a specific number.\n",
        "- After this process, any text given to the model will be turned into numbers so the model can train on it."
      ]
    },
    {
      "cell_type": "code",
      "execution_count": null,
      "metadata": {
        "id": "cat9MpOwncE2"
      },
      "outputs": [],
      "source": [
        "encoder.adapt(train_dataset.map(lambda text, label: text))"
      ]
    },
    {
      "cell_type": "markdown",
      "metadata": {
        "id": "b-UIA2OKK3Og"
      },
      "source": [
        "- train_dataset.map(lambda text, label: text): This extracts only the text (reviews) from the dataset, ignoring the labels.\n",
        "\n",
        "- encoder.adapt(): This teaches the TextVectorization layer (the encoder) to learn the vocabulary from the text, so it can later convert the words into numbers during training."
      ]
    },
    {
      "cell_type": "code",
      "execution_count": null,
      "metadata": {
        "colab": {
          "base_uri": "https://localhost:8080/"
        },
        "id": "ieblReN2IOdz",
        "outputId": "a5ce9c06-0761-493a-c399-a0f6f718aabc"
      },
      "outputs": [
        {
          "data": {
            "text/plain": [
              "array(['', '[UNK]', 'the', 'and', 'a', 'of', 'to', 'is', 'in', 'it', 'i',\n",
              "       'this', 'that', 'br', 'was', 'as', 'for', 'with', 'movie', 'but'],\n",
              "      dtype='<U14')"
            ]
          },
          "execution_count": 14,
          "metadata": {},
          "output_type": "execute_result"
        }
      ],
      "source": [
        "vocab = np.array(encoder.get_vocabulary())\n",
        "vocab[:20]"
      ]
    },
    {
      "cell_type": "markdown",
      "metadata": {
        "id": "jQg-NO034zOF"
      },
      "source": [
        "- The TextVectorization layer has learned the top words in the dataset.\n",
        "- The words are ranked by how frequently they appear in the text data.\n",
        "- Words like 'the', 'and', 'a' are very common in any English text, so they are at the top"
      ]
    },
    {
      "cell_type": "code",
      "execution_count": null,
      "metadata": {
        "colab": {
          "base_uri": "https://localhost:8080/"
        },
        "id": "TEkgHSQuL41p",
        "outputId": "8ba38efe-5e12-4ffc-8644-ab3a8783b753"
      },
      "outputs": [
        {
          "data": {
            "text/plain": [
              "array([[101, 147,  11, ...,   0,   0,   0],\n",
              "       [  1,   7,   4, ...,   0,   0,   0],\n",
              "       [  1,   7, 176, ...,   0,   0,   0]])"
            ]
          },
          "execution_count": 15,
          "metadata": {},
          "output_type": "execute_result"
        }
      ],
      "source": [
        "encoded_text = encoder(text)[:3].numpy()\n",
        "encoded_text"
      ]
    },
    {
      "cell_type": "markdown",
      "metadata": {
        "id": "rOwfZd4Q-mkU"
      },
      "source": [
        "This code **encodes text** into a sequence of numbers (indices) based on the vocabulary that the TextVectorization layer (encoder) has learned. It converts the words in the text into their corresponding numeric values."
      ]
    },
    {
      "cell_type": "markdown",
      "metadata": {
        "id": "3wt74rC__7uq"
      },
      "source": [
        "**Padded Sequences:** 0\n",
        "\n",
        "- The text is padded with 0s to match the length of the longest sequence in the batch.\n",
        "- If one sentence is shorter than the others, extra 0s are added at the end to make it the same length as the longest sentence.\n",
        "- Padding ensures that all the sentences in the batch have the same length, which is required for efficient processing in neural networks."
      ]
    },
    {
      "cell_type": "markdown",
      "metadata": {
        "id": "jfDNbUYMVDPN"
      },
      "source": [
        "**Purpose of the below Code:**\n",
        "\n",
        "- This code shows how text is converted into numbers (using the TextVectorization layer), and then the numbers are converted back to words using the vocabulary that the layer has learned.\n",
        "\n",
        "- This helps you verify that the encoding and decoding processes are working correctly and that the model is handling text data properly."
      ]
    },
    {
      "cell_type": "code",
      "execution_count": null,
      "metadata": {
        "colab": {
          "base_uri": "https://localhost:8080/"
        },
        "id": "jYd03eBU-kyY",
        "outputId": "ac9116db-f403-4084-f32a-aa5a4fe2ea52"
      },
      "outputs": [
        {
          "name": "stdout",
          "output_type": "stream",
          "text": [
            "Original:  b'After watching this, I had lost a little respect for Christopher Lee (This has passed over time). This film was utter garbage. First, they tried to recreate the ending from the first \"Howling,\" with incredibly bad make-up. Then they try to turn it into a sad excuse of a werewolf porn film! The plot sucks and the whole film is just AWFUL!!!! A brother of a werewolf victim from the first film (From the look of it, it was SUPPOSED to be Dee Wallace Stone)teams up with Lee and another woman to destroy the group of werewolves, lead by Sybil Danning, who seems to be naked all the time.<br /><br />This is not even worth renting (Unless you want to waste your time and money watching the nudity.). Try to catch it on cable instead. It would be so chopped up, it may actually make sense.'\n",
            "Round-trip:  after watching this i had lost a little [UNK] for [UNK] lee this has [UNK] over time this film was [UNK] [UNK] first they tried to [UNK] the ending from the first [UNK] with incredibly bad [UNK] then they try to turn it into a sad [UNK] of a [UNK] [UNK] film the plot [UNK] and the whole film is just awful a brother of a [UNK] [UNK] from the first film from the look of it it was supposed to be [UNK] [UNK] [UNK] up with lee and another woman to [UNK] the group of [UNK] lead by [UNK] [UNK] who seems to be [UNK] all the [UNK] br this is not even worth [UNK] unless you want to waste your time and money watching the [UNK] try to [UNK] it on [UNK] instead it would be so [UNK] up it may actually make sense                                                                                                                                                                                                                                                                                                                                                                                                                                                                                                                                                                                                       \n",
            "\n",
            "Original:  b\"Starlift is a pleasant and interesting throwback to those all star musical pictures that every studio was putting out during the World War II years. When you've got such stars as Gary Cooper, James Cagney, Doris Day, Gordon MacRae, and Randolph Scott, etc., in the film and with such people as the Gershwin Brothers, Cole Porter, Jule Styne and Sammy Cahn supplying the music, it's an easy to take film. And the plot isn't even in the way.<br /><br />What plot there is involves two Air Force enlisted men, Dick Wesson and Ron Hagerthy, trying to meet Warner Brothers starlet Janice Rule using as a gimmick the fact that both come from Youngstown, Ohio and Hagerthy's father was Rule's dentist as well as half of the town's. The scheme works too well as Louella Parsons is soon putting them as an item in her column. Yes, Louella's in the film as well. She must have liked Warner Brothers or Jack Warner catered to her more than the other studio bosses because she also used this studio to publicize her Hollywood Hotel radio program back in the day.<br /><br />But the rest of the plot also touched on the real life efforts of Ruth Roman also playing herself to get her studio and others to do shows at the Air Force bases for the servicemen and women going to Korea. Some of the names I've mentioned and others sing and perform in a show at Travis Air Force Base where a lot of this film was shot.<br /><br />One specialty number was shot for the talents of Phil Harris who sing/narrates a ballad Look Out Stranger, I'm A Texas Ranger aided and assisted by Virginia Gibson, Frank Lovejoy and Gary Cooper. Yup, Cooper looked like he was having a great old time kidding his image.<br /><br />This is the oldest of clich\\xc3\\xa9s when you say they don't make them like this any more, but they really don't because you don't have a studio system that has all this talent under contract. That's one thing about the demise of the old studio system we can mourn.\"\n",
            "Round-trip:  [UNK] is a [UNK] and interesting [UNK] to those all star musical [UNK] that every [UNK] was [UNK] out during the world war [UNK] years when youve got such stars as [UNK] [UNK] james [UNK] [UNK] day [UNK] [UNK] and [UNK] [UNK] etc in the film and with such people as the [UNK] brothers [UNK] [UNK] [UNK] [UNK] and [UNK] [UNK] [UNK] the music its an easy to take film and the plot isnt even in the [UNK] br what plot there is [UNK] two air [UNK] [UNK] men [UNK] [UNK] and [UNK] [UNK] trying to meet [UNK] brothers [UNK] [UNK] [UNK] using as a [UNK] the fact that both come from [UNK] [UNK] and [UNK] father was [UNK] [UNK] as well as half of the [UNK] the [UNK] works too well as [UNK] [UNK] is soon [UNK] them as an [UNK] in her [UNK] yes [UNK] in the film as well she must have liked [UNK] brothers or jack [UNK] [UNK] to her more than the other [UNK] [UNK] because she also used this [UNK] to [UNK] her hollywood [UNK] [UNK] [UNK] back in the [UNK] br but the rest of the plot also [UNK] on the real life [UNK] of [UNK] [UNK] also playing herself to get her [UNK] and others to do shows at the air [UNK] [UNK] for the [UNK] and women going to [UNK] some of the [UNK] ive [UNK] and others [UNK] and [UNK] in a show at [UNK] air [UNK] [UNK] where a lot of this film was [UNK] br one [UNK] number was shot for the [UNK] of [UNK] [UNK] who [UNK] a [UNK] look out [UNK] im a [UNK] [UNK] [UNK] and [UNK] by [UNK] [UNK] [UNK] [UNK] and [UNK] [UNK] [UNK] [UNK] looked like he was having a great old time [UNK] his [UNK] br this is the [UNK] of [UNK] when you say they dont make them like this any more but they really dont because you dont have a [UNK] [UNK] that has all this talent under [UNK] thats one thing about the [UNK] of the old [UNK] [UNK] we can [UNK]                                                                                                                                                                                                                                                                                                                                                                                       \n",
            "\n",
            "Original:  b'\"Fungicide\" is quite possibly the most incompetent, embarrassing, pitiful \"film\" I have ever seen. The acting is criminal, the direction practically non-existent, and the special effects presumably put together by unleashing a monkey with learning difficulties on a defenceless laptop computer.<br /><br />Far be it from me to stifle creativity, but I actually believe things like this shouldn\\'t be made. I am sure the \"film\"-makers will say that, yes, the \"film\" was hampered by a low (as in nothing) budget - but in that case they just really shouldn\\'t have bothered. As it is, they have offered the world something so dire, so execrable, that only imbeciles could get the merest shade of enjoyment from it.<br /><br />Starting the \"movie\" it wasn\\'t as though I was expecting \"Citizen Kane\" or anything. I was expecting a low budget little horror with perhaps a modicum of inventiveness, a hint of fun, and even some energy. What I got was the cinematic equivalent of a used handkerchief.<br /><br />The plot? Well, our leering antihero scientist, who works in his parents\\' basement, is seen manically stirring some goo in a cup. Apparently, such high-level science is the end-result of years of research. His parents then send him off to a strange hotel-type place in the countryside to relax. There are some other people there, who are simply too awful to write about. Anyway, the scientist drops his test-tube onto some mushrooms - and soon the mushrooms grow and kill some people. (Wow, I\\'m getting suicidal just writing the plot summary). Our heroes save the day by detonating a barrel of balsamic vinegar (by attaching a \"fuse\" - really a piece of string - to it). The barrel unaccountably explodes with the power of a small nuclear weapon, destroying all the mushrooms. The end. (Thank goodness).<br /><br />That summary is as good as the \"film\" gets (and actually makes it sound a lot more interesting than it actually is). It really should never have got past this stage of development (by which I mean a plot outline scribbled on the back of an envelope with crayons). Somebody should have really stepped in and given someone a vigorous shake and said \"NO.\" <br /><br />And those \"special\" effects. Well, they\\'re \"special\" all right. This is CGI gone crazy. And done by a person who I can only assume believes the bicycle pump to be the pinnacle of modern technology. And when the mushroom monsters are not in the style of a 1984 home computer graphics package, they are represented by actors shuffling along covered in a sheet (I kid you not).<br /><br />One of the most inexcusable things about the movie is its laziness. This can be summed up by the scene in which the hero spins his guns (a la Clint Eastwood) and then fails miserably to get them in his pockets. I mean come on, a couple of retakes and he could have pulled it off, but just to leave it as it is - really weak.<br /><br />I cannot believe money was spent on this camcorder-shot rubbish. The \"film\"-makers should hang their heads in shame and be banned from going within fifty metres of any movie-making equipment.<br /><br />I also think it\\'s wrong that friends and family of the makers come onto IMDb and post mendacious reviews and give stupidly high user ratings which give a totally inaccurate picture of the \"movie.\" \"Fungicide\" is an absolute travesty of film-making. Mr Wascavage is either very, very stupid or very, very cynical.'\n",
            "Round-trip:  [UNK] is quite possibly the most [UNK] [UNK] [UNK] film i have ever seen the acting is [UNK] the direction [UNK] [UNK] and the special effects [UNK] put together by [UNK] a [UNK] with [UNK] [UNK] on a [UNK] [UNK] [UNK] br far be it from me to [UNK] [UNK] but i actually believe things like this [UNK] be made i am sure the filmmakers will say that yes the film was [UNK] by a low as in nothing budget but in that case they just really [UNK] have [UNK] as it is they have [UNK] the world something so [UNK] so [UNK] that only [UNK] could get the [UNK] [UNK] of [UNK] from itbr br [UNK] the movie it wasnt as though i was expecting [UNK] [UNK] or anything i was expecting a low budget little horror with perhaps a [UNK] of [UNK] a [UNK] of fun and even some [UNK] what i got was the [UNK] [UNK] of a used [UNK] br the plot well our [UNK] [UNK] [UNK] who works in his parents [UNK] is seen [UNK] [UNK] some [UNK] in a [UNK] apparently such [UNK] [UNK] is the [UNK] of years of [UNK] his parents then [UNK] him off to a strange [UNK] place in the [UNK] to [UNK] there are some other people there who are simply too awful to write about anyway the [UNK] [UNK] his [UNK] [UNK] some [UNK] and soon the [UNK] [UNK] and kill some people [UNK] im getting [UNK] just writing the plot [UNK] our [UNK] save the day by [UNK] a [UNK] of [UNK] [UNK] by [UNK] a [UNK] really a piece of [UNK] to it the [UNK] [UNK] [UNK] with the power of a small [UNK] [UNK] [UNK] all the [UNK] the end [UNK] [UNK] br that [UNK] is as good as the film gets and actually makes it sound a lot more interesting than it actually is it really should never have got past this stage of development by which i mean a plot [UNK] [UNK] on the back of an [UNK] with [UNK] [UNK] should have really [UNK] in and given someone a [UNK] [UNK] and said no br br and those special effects well theyre special all right this is [UNK] gone crazy and done by a person who i can only [UNK] [UNK] the [UNK] [UNK] to be the [UNK] of modern [UNK] and when the [UNK] [UNK] are not in the style of a [UNK] home [UNK] [UNK] [UNK] they are [UNK] by actors [UNK] along [UNK] in a [UNK] i kid you [UNK] br one of the most [UNK] things about the movie is its [UNK] this can be [UNK] up by the scene in which the hero [UNK] his [UNK] a la [UNK] [UNK] and then fails [UNK] to get them in his [UNK] i mean come on a couple of [UNK] and he could have [UNK] it off but just to leave it as it is really [UNK] br i cannot believe money was [UNK] on this [UNK] [UNK] the filmmakers should [UNK] their [UNK] in shame and be [UNK] from going within [UNK] [UNK] of any [UNK] [UNK] br i also think its wrong that friends and family of the [UNK] come [UNK] imdb and [UNK] [UNK] reviews and give [UNK] high [UNK] [UNK] which give a totally [UNK] picture of the movie [UNK] is an [UNK] [UNK] of [UNK] mr [UNK] is either very very stupid or very very [UNK]                                                                                                                                                   \n",
            "\n"
          ]
        }
      ],
      "source": [
        "for n in range(3):\n",
        "    print(\"Original: \", text[n].numpy())\n",
        "    print(\"Round-trip: \", \" \".join(vocab[encoded_text[n]]))\n",
        "    print()"
      ]
    },
    {
      "cell_type": "markdown",
      "metadata": {
        "id": "v5AMSlFnKy_4"
      },
      "source": [
        "**Example 1:**\n",
        "\n",
        "- Original Text:\n",
        "The review talks about a movie called Slaughter High and its revenge story, mentioning that the movie was a mess and ended poorly.\n",
        "\n",
        "- Round-trip Text:\n",
        "Many words like \"Slaughter\", \"revenge\", \"nerdy\", \"coldest\" were not in the top 1000 words, so they were replaced with [UNK].\n",
        "\n",
        "The rest of the words like \"the\", \"of\", \"to\", \"movie\", etc., were retained as they were in the vocabulary.\n",
        "\n",
        "**Example 2:**\n",
        "\n",
        "- Original Text:\n",
        "A review that praises a movie for holding up well over time, particularly noting its 80s vibe and comedy.\n",
        "\n",
        "- Round-trip Text:\n",
        "Words like \"recently\", \"memory\", \"Keaton\", \"Howard\" were replaced with [UNK] because they were not part of the top 1000 words in the vocabulary.\n",
        "\n",
        "Common words like \"this\", \"is\", \"film\", \"great\", \"when\", \"we\", \"were\", etc., are retained because they are common and were included in the vocabulary.\n",
        "\n",
        "**Example 3:**\n",
        "\n",
        "- Original Text:\n",
        "This review describes a strange and funny movie, highlighting its unique style and quirky characters.\n",
        "\n",
        "- Round-trip Text:\n",
        "Words like \"dreamy\", \"bleached\", \"spacey\", and \"goofy\" were replaced with [UNK] because they weren’t in the top 1000 words.\n",
        "\n",
        "More common words like \"this\", \"movie\", \"was\", \"very\", \"funny\", \"all\", \"of\", \"actors\", and \"real\" were retained since they were part of the vocabulary.\n"
      ]
    },
    {
      "cell_type": "markdown",
      "metadata": {
        "id": "xv_4NA1bVglz"
      },
      "source": [
        "**In summary**\n",
        "\n",
        "- Original text: The raw movie reviews.\n",
        "- Round-trip text: The reviews after encoding and decoding, where some words were replaced by [UNK] because they weren’t frequent enough in the dataset.\n",
        "- The model successfully retained common words, but rare or unique words were replaced with [UNK]."
      ]
    },
    {
      "cell_type": "markdown",
      "metadata": {
        "id": "2JIcMB3qWGzS"
      },
      "source": [
        "![image.png](data:image/png;base64,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)"
      ]
    },
    {
      "cell_type": "markdown",
      "metadata": {
        "id": "sc5TEBjYbr3l"
      },
      "source": [
        "# Neural Network Model for Text Classification\n",
        "\n",
        "This diagram represents a neural network model that processes text data and makes predictions (in this case, likely for text classification). Let’s break it down step by step.\n",
        "\n",
        "## 1. The Model is Built as a Sequential Model:\n",
        "The model is built using `tf.keras.Sequential`, meaning the layers are stacked one after the other in sequence.\n",
        "\n",
        "## 2. Text Vectorization (Encoder Layer):\n",
        "The first layer in the model is the `TextVectorization` layer (encoder).  \n",
        "This layer converts the raw text (like \"That was a great movie\") into a sequence of numbers (tokens). Each word in the sentence is replaced by a number based on a learned vocabulary. For example:\n",
        "\n",
        "- \"That\" → 5  \n",
        "- \"was\" → 8  \n",
        "- \"a\" → 3  \n",
        "- \"great\" → 120  \n",
        "- \"movie\" → 35\n",
        "\n",
        "## 3. Embedding Layer:\n",
        "After the text is turned into numbers, the Embedding layer comes next.  \n",
        "This layer converts each number (token) into a dense vector (a set of numbers). Each word is represented as a vector of numbers instead of just a single number.\n",
        "\n",
        "For example:  \n",
        "- \"That\" (which was 5) → `E[5]` (a vector like `[0.1, 0.4, 0.7, …]`)  \n",
        "- \"was\" (which was 8) → `E[8]` (a different vector)  \n",
        "\n",
        "These vectors are trainable, meaning the model adjusts them during training to learn better representations of words.\n",
        "\n",
        "### 3.1 Masking:\n",
        "Masking is used to ignore padding (extra zeros added to sentences to make them the same length).  \n",
        "There are three ways to introduce masking:\n",
        "\n",
        "- **Masking Layer**: Add a masking layer manually.\n",
        "- **`mask_zero=True`**: Set this in the Embedding layer to automatically handle padding.\n",
        "- **Manual Masking**: Pass the mask when calling layers that support it (like RNN layers).\n",
        "\n",
        "## 4. Bidirectional RNN Layer:\n",
        "Next, the model includes a Bidirectional LSTM layer (a type of Recurrent Neural Network).  \n",
        "Recurrent Neural Networks (RNNs) process data in sequences (like text) by iterating through one word at a time, passing information from one word to the next.  \n",
        "Bidirectional means the LSTM processes the sequence in both directions:\n",
        "- **Forward**: From the beginning of the sentence to the end.\n",
        "- **Backward**: From the end of the sentence to the beginning.  \n",
        "This helps capture context from both directions (what came before and after each word).\n",
        "\n",
        "### 4.1 Advantage of Bidirectional RNN:\n",
        "The advantage of a bidirectional RNN is that it can capture information from both the start and the end of a sentence, which helps understand the full context.\n",
        "\n",
        "### 4.2 Disadvantage of Bidirectional RNN:\n",
        "The disadvantage is that it’s harder to use for streaming predictions (like predicting one word at a time) because it processes the whole sentence in both directions.\n",
        "\n",
        "## 5. Dense Layer and Output Layer (Classification):\n",
        "After processing the text with the Bidirectional RNN, the model uses Dense layers to further process the output.  \n",
        "Finally, the model produces a single output for classification (for example, deciding whether the sentence is positive or negative in sentiment).\n",
        "\n",
        "## Summary of the Layers in the Model:\n",
        "- **Text Vectorization**: Converts text into numbers (tokens).\n",
        "- **Embedding Layer**: Converts those numbers into dense vectors.\n",
        "- **Bidirectional LSTM**: Processes the sentence in both forward and backward directions.\n",
        "- **Dense Layer**: Processes the information from the LSTM.\n",
        "- **Output Layer (Classification)**: Produces the final classification result.\n"
      ]
    },
    {
      "cell_type": "code",
      "execution_count": null,
      "metadata": {
        "id": "TJ002EJTAwwR"
      },
      "outputs": [],
      "source": [
        "model = tf.keras.Sequential([\n",
        "    encoder,\n",
        "    tf.keras.layers.Embedding(\n",
        "        input_dim = len(encoder.get_vocabulary()),\n",
        "        output_dim = 64,\n",
        "        mask_zero = True),\n",
        "    tf.keras.layers.Bidirectional(tf.keras.layers.LSTM(64)),\n",
        "    tf.keras.layers.Dense(64, activation='relu'),\n",
        "    tf.keras.layers.Dense(1)\n",
        "])"
      ]
    },
    {
      "cell_type": "code",
      "execution_count": null,
      "metadata": {
        "colab": {
          "base_uri": "https://localhost:8080/"
        },
        "id": "NNVW1pycfEML",
        "outputId": "fcc24b4e-70a7-4b83-f141-378ab24dbaeb"
      },
      "outputs": [
        {
          "name": "stdout",
          "output_type": "stream",
          "text": [
            "[False, True, True, True, True]\n"
          ]
        }
      ],
      "source": [
        "print([layer.supports_masking for layer in model.layers])\n"
      ]
    },
    {
      "cell_type": "markdown",
      "metadata": {
        "id": "cvwQbpS_lqSZ"
      },
      "source": [
        "Make sure that is no padding needed to be masked"
      ]
    },
    {
      "cell_type": "markdown",
      "metadata": {
        "id": "kVJKLPjdlqJ_"
      },
      "source": [
        "This means the model has 5 layers, and the list shows whether each layer supports masking:\n",
        "\n",
        "- False: The first layer (TextVectorization/encoder) does not support masking.\n",
        "- True: The second layer (Embedding) supports masking. This is because the Embedding layer can ignore padding (e.g., zeros used to make sequences of equal length) when mask_zero=True is set.\n",
        "- True: The third layer (Bidirectional LSTM) supports masking, as LSTM layers can handle masked sequences to avoid processing padding.\n",
        "- True: The next layer (Dense) supports masking.\n",
        "- True: The final layer (Dense output layer) also supports masking."
      ]
    },
    {
      "cell_type": "markdown",
      "metadata": {
        "id": "U8qtP1JZmjim"
      },
      "source": [
        "**Predict on a sample text without padding**"
      ]
    },
    {
      "cell_type": "code",
      "execution_count": null,
      "metadata": {
        "id": "VzwiuBf8okO-"
      },
      "outputs": [],
      "source": [
        "model.compile(\n",
        "    loss=tf.keras.losses.BinaryCrossentropy(from_logits=True),\n",
        "    optimizer=tf.keras.optimizers.Adam(),\n",
        "    metrics=['accuracy']\n",
        ")\n"
      ]
    },
    {
      "cell_type": "code",
      "execution_count": null,
      "metadata": {
        "colab": {
          "base_uri": "https://localhost:8080/"
        },
        "id": "URvmR4YP9g_R",
        "outputId": "fea7d28b-dd33-4b34-df86-b88bfdccf290"
      },
      "outputs": [
        {
          "name": "stdout",
          "output_type": "stream",
          "text": [
            "\u001b[1m1/1\u001b[0m \u001b[32m━━━━━━━━━━━━━━━━━━━━\u001b[0m\u001b[37m\u001b[0m \u001b[1m3s\u001b[0m 3s/step\n",
            "[[-0.00468088]]\n"
          ]
        }
      ],
      "source": [
        "import numpy as np\n",
        "import tensorflow as tf\n",
        "\n",
        "# Assuming 'model' and 'encoder' (TextVectorization layer) are already defined and trained\n",
        "\n",
        "# Sample text to predict\n",
        "sample_text = \"The movie was cool. The animation and the graphics were out of this world. I would recommend this movie.\"\n",
        "\n",
        "# Step 1: Ensure the text is passed in the correct format (as a batch)\n",
        "sample_text_batch = np.array([sample_text], dtype=object)  # Set dtype explicitly to object (string)\n",
        "\n",
        "# Step 2: Make predictions using the model (let the TextVectorization layer handle the tokenization)\n",
        "predictions = model.predict(sample_text_batch)\n",
        "\n",
        "# Step 3: Output the prediction result\n",
        "print(predictions)\n"
      ]
    },
    {
      "cell_type": "markdown",
      "metadata": {
        "id": "SnOz4oyBSjsi"
      },
      "source": [
        "Predict on a sample text with padding"
      ]
    },
    {
      "cell_type": "code",
      "execution_count": null,
      "metadata": {
        "colab": {
          "base_uri": "https://localhost:8080/"
        },
        "id": "RkO8KsOBDqNQ",
        "outputId": "87235647-8113-4726-fddb-fd41350a6a79"
      },
      "outputs": [
        {
          "name": "stdout",
          "output_type": "stream",
          "text": [
            "\u001b[1m1/1\u001b[0m \u001b[32m━━━━━━━━━━━━━━━━━━━━\u001b[0m\u001b[37m\u001b[0m \u001b[1m3s\u001b[0m 3s/step\n",
            "Prediction for sample text: [-0.00468088]\n",
            "Prediction for padded text: [-0.00713129]\n"
          ]
        }
      ],
      "source": [
        "import numpy as np\n",
        "import tensorflow as tf\n",
        "\n",
        "# Assuming 'model' and 'encoder' (TextVectorization layer) are already defined and trained\n",
        "\n",
        "# Sample text to predict\n",
        "sample_text = \"The movie was cool. The animation and the graphics were out of this world. I would recommend this movie.\"\n",
        "\n",
        "# Add padding: Repeating \"the \" 2000 times to create padding\n",
        "padding = \"the \" * 2000\n",
        "\n",
        "# Step 1: Ensure both the sample text and padded text are passed in the correct format\n",
        "sample_text_batch = np.array([sample_text, padding], dtype=object)  # Set dtype explicitly to object (string)\n",
        "\n",
        "# Step 2: Make predictions using the model (let the TextVectorization layer handle the tokenization)\n",
        "predictions = model.predict(sample_text_batch)\n",
        "\n",
        "# Step 3: Output the prediction result for the original text\n",
        "print(\"Prediction for sample text:\", predictions[0])\n",
        "\n",
        "# Optional: Output the prediction result for the padded text\n",
        "print(\"Prediction for padded text:\", predictions[1])\n"
      ]
    },
    {
      "cell_type": "markdown",
      "metadata": {
        "id": "ae4cszwjeZXJ"
      },
      "source": [
        "**Compile the model**\n"
      ]
    },
    {
      "cell_type": "code",
      "execution_count": null,
      "metadata": {
        "id": "-Vb2G2LZaX1x"
      },
      "outputs": [],
      "source": [
        "model.compile(loss=tf.keras.losses.BinaryCrossentropy(from_logits=True),\n",
        "              optimizer = tf.keras.optimizers.Adam(1e-4),\n",
        "              metrics = ['accuracy'])"
      ]
    },
    {
      "cell_type": "markdown",
      "metadata": {
        "id": "012dfkAefez-"
      },
      "source": [
        " 1. **Loss Function**:\n",
        "- tf.keras.losses.BinaryCrossentropy(from_logits=True)\n",
        "- Binary Crossentropy: This is the loss function used when solving binary classification problems, where the goal is to classify each input into one of two possible classes (like True/False, Yes/No, etc.).\n",
        "- It calculates the difference between the true label and the predicted label by comparing the probability distribution of the true labels and predicted labels."
      ]
    },
    {
      "cell_type": "markdown",
      "metadata": {
        "id": "L4tGgZCBiAD-"
      },
      "source": [
        "**from_logits=True:** This argument means that the output of the model is in the form of logits, i.e., raw predictions that haven't been passed through an activation function like sigmoid.\n",
        "\n",
        "- If you use from_logits=True, it tells the model to apply the sigmoid activation function internally before calculating the loss.\n",
        "\n",
        "- If your model’s output is raw (not yet squashed to a probability between 0 and 1), you should set from_logits=True. Otherwise, set it to False if you already applied the sigmoid activation function."
      ]
    },
    {
      "cell_type": "markdown",
      "metadata": {
        "id": "X1BNYrrYifLH"
      },
      "source": [
        "2. **Adam Optimizer:** Adam (Adaptive Moment Estimation) is one of the most popular and efficient optimizers used in deep learning"
      ]
    },
    {
      "cell_type": "markdown",
      "metadata": {
        "id": "Cj7sxLstivUq"
      },
      "source": [
        "**Learning Rate 1e-4:** The 1e-4 stands for\n",
        "1\n",
        "×\n",
        "1\n",
        "0\n",
        "−\n",
        "4\n",
        "1×10\n",
        "−4\n",
        " , or 0.0001, which is the learning rate for the Adam optimizer.\n",
        "\n",
        "\n",
        "**A learning rate**\n",
        "controls how much to adjust the model in response to the estimated error after each update. A smaller learning rate (like 1e-4) makes the learning slower and more stable, while larger values can make it faster but risk overshooting the optimal solution."
      ]
    },
    {
      "cell_type": "markdown",
      "metadata": {
        "id": "T-k8-knyjANW"
      },
      "source": [
        "3. **Metrics:** ['accuracy']\n",
        "Accuracy: This is the metric that will be used to evaluate how well the model is performing. Accuracy measures the percentage of predictions the model got right.\n",
        "It’s calculated as:\n",
        "Accuracy\n",
        "=\n",
        "Number of correct predictions\n",
        "Total number of predictions\n",
        "Accuracy=\n",
        "Total number of predictions\n",
        "Number of correct predictions\n",
        "​\n",
        "\n",
        "In binary classification, accuracy is a common evaluation metric, especially when the dataset is balanced."
      ]
    },
    {
      "cell_type": "markdown",
      "metadata": {
        "id": "dLc0DtJtklUC"
      },
      "source": [
        "**Train the model**"
      ]
    },
    {
      "cell_type": "code",
      "execution_count": null,
      "metadata": {
        "colab": {
          "base_uri": "https://localhost:8080/"
        },
        "id": "N7mxDhMukqIf",
        "outputId": "acaddf05-6be9-4ba5-89b2-7bd00d6dfbaf"
      },
      "outputs": [
        {
          "name": "stdout",
          "output_type": "stream",
          "text": [
            "Input Shape: (64,), Target Shape: (64,)\n"
          ]
        }
      ],
      "source": [
        "# عرض شكل المدخلات والمخرجات للتأكد\n",
        "for x, y in train_dataset.take(1):\n",
        "    print(f\"Input Shape: {x.shape}, Target Shape: {y.shape}\")"
      ]
    },
    {
      "cell_type": "code",
      "execution_count": null,
      "metadata": {
        "colab": {
          "background_save": true,
          "base_uri": "https://localhost:8080/"
        },
        "id": "yMtPZXZDmwhP",
        "outputId": "07545bd6-b517-4a6f-92a4-8093c9325352"
      },
      "outputs": [
        {
          "name": "stdout",
          "output_type": "stream",
          "text": [
            "Epoch 1/10\n",
            "\u001b[1m391/391\u001b[0m \u001b[32m━━━━━━━━━━━━━━━━━━━━\u001b[0m\u001b[37m\u001b[0m \u001b[1m815s\u001b[0m 2s/step - accuracy: 0.5137 - loss: 0.6838 - val_accuracy: 0.7614 - val_loss: 0.4675\n",
            "Epoch 2/10\n",
            "\u001b[1m391/391\u001b[0m \u001b[32m━━━━━━━━━━━━━━━━━━━━\u001b[0m\u001b[37m\u001b[0m \u001b[1m861s\u001b[0m 2s/step - accuracy: 0.7657 - loss: 0.4634 - val_accuracy: 0.8372 - val_loss: 0.4008\n",
            "Epoch 3/10\n",
            "\u001b[1m391/391\u001b[0m \u001b[32m━━━━━━━━━━━━━━━━━━━━\u001b[0m\u001b[37m\u001b[0m \u001b[1m857s\u001b[0m 2s/step - accuracy: 0.8317 - loss: 0.3791 - val_accuracy: 0.8522 - val_loss: 0.3568\n",
            "Epoch 4/10\n",
            "\u001b[1m391/391\u001b[0m \u001b[32m━━━━━━━━━━━━━━━━━━━━\u001b[0m\u001b[37m\u001b[0m \u001b[1m869s\u001b[0m 2s/step - accuracy: 0.8477 - loss: 0.3425 - val_accuracy: 0.8337 - val_loss: 0.3430\n",
            "Epoch 5/10\n",
            "\u001b[1m391/391\u001b[0m \u001b[32m━━━━━━━━━━━━━━━━━━━━\u001b[0m\u001b[37m\u001b[0m \u001b[1m855s\u001b[0m 2s/step - accuracy: 0.8589 - loss: 0.3249 - val_accuracy: 0.8492 - val_loss: 0.3691\n",
            "Epoch 6/10\n",
            "\u001b[1m391/391\u001b[0m \u001b[32m━━━━━━━━━━━━━━━━━━━━\u001b[0m\u001b[37m\u001b[0m \u001b[1m860s\u001b[0m 2s/step - accuracy: 0.8624 - loss: 0.3201 - val_accuracy: 0.8548 - val_loss: 0.3173\n",
            "Epoch 7/10\n",
            "\u001b[1m391/391\u001b[0m \u001b[32m━━━━━━━━━━━━━━━━━━━━\u001b[0m\u001b[37m\u001b[0m \u001b[1m803s\u001b[0m 2s/step - accuracy: 0.8676 - loss: 0.3058 - val_accuracy: 0.8509 - val_loss: 0.3196\n",
            "Epoch 8/10\n",
            "\u001b[1m391/391\u001b[0m \u001b[32m━━━━━━━━━━━━━━━━━━━━\u001b[0m\u001b[37m\u001b[0m \u001b[1m917s\u001b[0m 2s/step - accuracy: 0.8677 - loss: 0.3064 - val_accuracy: 0.8475 - val_loss: 0.3231\n",
            "Epoch 9/10\n",
            "\u001b[1m391/391\u001b[0m \u001b[32m━━━━━━━━━━━━━━━━━━━━\u001b[0m\u001b[37m\u001b[0m \u001b[1m802s\u001b[0m 2s/step - accuracy: 0.8710 - loss: 0.2974 - val_accuracy: 0.8458 - val_loss: 0.3247\n",
            "Epoch 10/10\n",
            "\u001b[1m391/391\u001b[0m \u001b[32m━━━━━━━━━━━━━━━━━━━━\u001b[0m\u001b[37m\u001b[0m \u001b[1m853s\u001b[0m 2s/step - accuracy: 0.8676 - loss: 0.3011 - val_accuracy: 0.8587 - val_loss: 0.3135\n"
          ]
        }
      ],
      "source": [
        "history = model.fit(\n",
        "    train_dataset,  # Training data\n",
        "    epochs=10,      # Number of epochs to train the model\n",
        "    validation_data=test_dataset  # Validation data to evaluate during training\n",
        ")\n"
      ]
    },
    {
      "cell_type": "markdown",
      "metadata": {
        "id": "MUANzOlR-yWc"
      },
      "source": [
        "**Evaluate the model**"
      ]
    },
    {
      "cell_type": "code",
      "execution_count": null,
      "metadata": {
        "colab": {
          "background_save": true
        },
        "id": "vOxB_vODnNQY",
        "outputId": "60541b34-5219-4369-8fb9-7707f9a9e213"
      },
      "outputs": [
        {
          "name": "stdout",
          "output_type": "stream",
          "text": [
            "\u001b[1m391/391\u001b[0m \u001b[32m━━━━━━━━━━━━━━━━━━━━\u001b[0m\u001b[37m\u001b[0m \u001b[1m143s\u001b[0m 367ms/step - accuracy: 0.8589 - loss: 0.3134\n",
            "Test Loss: 0.31345438957214355\n",
            "Test Accuracy: 0.858680009841919\n"
          ]
        }
      ],
      "source": [
        "test_loss, test_acc = model.evaluate(test_dataset)\n",
        "\n",
        "print('Test Loss:', test_loss)\n",
        "print('Test Accuracy:', test_acc)"
      ]
    },
    {
      "cell_type": "markdown",
      "metadata": {
        "id": "iEYXK9Ll-7dr"
      },
      "source": [
        "**Plot the accuracy and loss**"
      ]
    },
    {
      "cell_type": "code",
      "execution_count": null,
      "metadata": {
        "colab": {
          "background_save": true
        },
        "id": "P35HaFWb-4Z9"
      },
      "outputs": [],
      "source": [
        "import matplotlib.pyplot as plt"
      ]
    },
    {
      "cell_type": "code",
      "execution_count": null,
      "metadata": {
        "colab": {
          "background_save": true
        },
        "id": "IitrPfOS--tS"
      },
      "outputs": [],
      "source": [
        "def plot_graphs(history, metric):\n",
        "    plt.plot(history.history[metric])\n",
        "    plt.plot(history.history['val_'+metric], '')\n",
        "    plt.xlabel(\"Epochs\")\n",
        "    plt.ylabel(metric)\n",
        "    plt.legend([metric, 'val_'+metric])\n",
        "    pass"
      ]
    },
    {
      "cell_type": "code",
      "execution_count": null,
      "metadata": {
        "colab": {
          "background_save": true
        },
        "id": "X3OLVsCP_e0Y",
        "outputId": "8628996f-d621-4de4-c4d5-6e749c7f1e8f"
      },
      "outputs": [
        {
          "data": {
            "text/plain": [
              "(0.0, 0.6613481402397156)"
            ]
          },
          "execution_count": 28,
          "metadata": {},
          "output_type": "execute_result"
        },
        {
          "data": {
            "image/png": "[encoded data removed]",
            "text/plain": [
              "<Figure size 1600x800 with 2 Axes>"
            ]
          },
          "metadata": {},
          "output_type": "display_data"
        }
      ],
      "source": [
        "plt.figure(figsize=(16, 8))\n",
        "plt.subplot(1, 2, 1)\n",
        "plot_graphs(history, 'accuracy')\n",
        "plt.ylim(None, 1)\n",
        "\n",
        "plt.subplot(1, 2, 2)\n",
        "plot_graphs(history, 'loss')\n",
        "plt.ylim(0, None)"
      ]
    },
    {
      "cell_type": "markdown",
      "metadata": {
        "id": "Spav5hwG_ijO"
      },
      "source": [
        "**Predict the sample_text**"
      ]
    },
    {
      "cell_type": "markdown",
      "metadata": {
        "id": "SOdYN_SE_mHL"
      },
      "source": [
        "If the prediction is >= 0.0, it is positive else it is negative.\n"
      ]
    },
    {
      "cell_type": "code",
      "execution_count": null,
      "metadata": {
        "colab": {
          "background_save": true
        },
        "id": "EeuyELWu_oO7",
        "outputId": "6f5d0977-ccce-4a4d-c914-501dfca56718"
      },
      "outputs": [
        {
          "name": "stdout",
          "output_type": "stream",
          "text": [
            "\u001b[1m1/1\u001b[0m \u001b[32m━━━━━━━━━━━━━━━━━━━━\u001b[0m\u001b[37m\u001b[0m \u001b[1m1s\u001b[0m 556ms/step\n",
            "[[0.6804362]]\n",
            "Positive Review\n"
          ]
        }
      ],
      "source": [
        "import numpy as np\n",
        "\n",
        "# Sample text to predict\n",
        "sample_text = \"The movie was cool. The animation and the graphics were out of this world. I would recommend this movie.\"\n",
        "\n",
        "# Ensure the text is passed as a batch and set dtype explicitly to object (string)\n",
        "sample_text_batch = np.array([sample_text], dtype=object)\n",
        "\n",
        "# Make predictions using the model\n",
        "predictions = model.predict(sample_text_batch)\n",
        "\n",
        "# Output the prediction result\n",
        "print(predictions)\n",
        "\n",
        "# If the prediction is >= 0, it is positive else it is negative\n",
        "if predictions[0] >= 0:\n",
        "    print(\"Positive Review\")\n",
        "else:\n",
        "    print(\"Negative Review\")\n"
      ]
    },
    {
      "cell_type": "code",
      "execution_count": null,
      "metadata": {
        "colab": {
          "background_save": true
        },
        "id": "fCCTZfhwBE45",
        "outputId": "f34dae24-b84c-4b75-a417-d745d23f5744"
      },
      "outputs": [
        {
          "name": "stdout",
          "output_type": "stream",
          "text": [
            "\u001b[1m1/1\u001b[0m \u001b[32m━━━━━━━━━━━━━━━━━━━━\u001b[0m\u001b[37m\u001b[0m \u001b[1m0s\u001b[0m 33ms/step\n",
            "[[-3.7958815]]\n",
            "Negative Review\n"
          ]
        }
      ],
      "source": [
        "import numpy as np\n",
        "\n",
        "# Sample text to predict\n",
        "sample_text = \"The movie was very bad, total waste of money. I will never recommend this movie.\"\n",
        "\n",
        "# Ensure the text is passed as a batch and set dtype explicitly to object (string)\n",
        "sample_text_batch = np.array([sample_text], dtype=object)\n",
        "\n",
        "# Make predictions using the model\n",
        "predictions = model.predict(sample_text_batch)\n",
        "\n",
        "# Output the prediction result\n",
        "print(predictions)\n",
        "\n",
        "# If the prediction is >= 0, it is positive else it is negative\n",
        "if predictions[0] >= 0:\n",
        "    print(\"Positive Review\")\n",
        "else:\n",
        "    print(\"Negative Review\")\n"
      ]
    },
    {
      "cell_type": "markdown",
      "metadata": {
        "id": "kQqoR9TYbeqA"
      },
      "source": [
        "## The left graph (Accuracy):\n",
        "\n",
        "- The **blue line** represents the accuracy on the training data (how well the model predicts during training).\n",
        "- The **orange line** represents the accuracy on the test data (how well the model predicts on unseen data).\n",
        "\n",
        "### Observations:\n",
        "- At first, the accuracy on the training data improves a lot (the blue line), and as the model continues to train through more *Epochs* (training rounds), the accuracy increases and becomes stable.\n",
        "- The accuracy on the test data (the orange line) also improves and stabilizes, though it’s slightly lower than the accuracy on the training data.\n",
        "\n",
        "### Conclusion:\n",
        "The model is working well because there’s a good balance between how it performs on both training and test data.\n",
        "\n",
        "---\n",
        "\n",
        "## The right graph (Loss):\n",
        "\n",
        "- The **blue line** represents the loss on the training data (how much the model’s predictions differ from the actual results).\n",
        "- The **orange line** represents the loss on the test data.\n",
        "\n",
        "### Observations:\n",
        "- At the beginning, the loss is very high, but as the model trains through more *Epochs*, the loss decreases significantly and stabilizes after about 3 Epochs.\n",
        "- The blue and orange lines are very close, meaning the model isn’t overfitting (learning too much from the training data only).\n",
        "\n",
        "### Conclusion:\n",
        "- The accuracy improves and becomes stable on both training and test data.\n",
        "- The loss decreases a lot and becomes stable, meaning the model is learning well and making correct predictions.\n",
        "- Overall performance is great and balanced, with no big difference between training and test data, which means the model isn’t overfitting.\n"
      ]
    },
    {
      "cell_type": "code",
      "execution_count": null,
      "metadata": {
        "id": "ZLwdCrpvboo8"
      },
      "outputs": [],
      "source": []
    }
  ],
  "metadata": {
    "colab": {
      "provenance": [],
      "authorship_tag": "ABX9TyPQoAEgqAElowhn4VMDtLMW",
      "include_colab_link": true
    },
    "kernelspec": {
      "display_name": "Python 3",
      "name": "python3"
    },
    "language_info": {
      "name": "python"
    },
    "widgets": {
      "application/vnd.jupyter.widget-state+json": {
        "033daa40fdbc4fc5bed1aeb7e7bdf490": {
          "model_module": "@jupyter-widgets/base",
          "model_module_version": "1.2.0",
          "model_name": "LayoutModel",
          "state": {
            "_model_module": "@jupyter-widgets/base",
            "_model_module_version": "1.2.0",
            "_model_name": "LayoutModel",
            "_view_count": null,
            "_view_module": "@jupyter-widgets/base",
            "_view_module_version": "1.2.0",
            "_view_name": "LayoutView",
            "align_content": null,
            "align_items": null,
            "align_self": null,
            "border": null,
            "bottom": null,
            "display": null,
            "flex": null,
            "flex_flow": null,
            "grid_area": null,
            "grid_auto_columns": null,
            "grid_auto_flow": null,
            "grid_auto_rows": null,
            "grid_column": null,
            "grid_gap": null,
            "grid_row": null,
            "grid_template_areas": null,
            "grid_template_columns": null,
            "grid_template_rows": null,
            "height": null,
            "justify_content": null,
            "justify_items": null,
            "left": null,
            "margin": null,
            "max_height": null,
            "max_width": null,
            "min_height": null,
            "min_width": null,
            "object_fit": null,
            "object_position": null,
            "order": null,
            "overflow": null,
            "overflow_x": null,
            "overflow_y": null,
            "padding": null,
            "right": null,
            "top": null,
            "visibility": "hidden",
            "width": null
          }
        },
        "0ba1c8a114704cf7888e31bbba6bd4ed": {
          "model_module": "@jupyter-widgets/base",
          "model_module_version": "1.2.0",
          "model_name": "LayoutModel",
          "state": {
            "_model_module": "@jupyter-widgets/base",
            "_model_module_version": "1.2.0",
            "_model_name": "LayoutModel",
            "_view_count": null,
            "_view_module": "@jupyter-widgets/base",
            "_view_module_version": "1.2.0",
            "_view_name": "LayoutView",
            "align_content": null,
            "align_items": null,
            "align_self": null,
            "border": null,
            "bottom": null,
            "display": null,
            "flex": null,
            "flex_flow": null,
            "grid_area": null,
            "grid_auto_columns": null,
            "grid_auto_flow": null,
            "grid_auto_rows": null,
            "grid_column": null,
            "grid_gap": null,
            "grid_row": null,
            "grid_template_areas": null,
            "grid_template_columns": null,
            "grid_template_rows": null,
            "height": null,
            "justify_content": null,
            "justify_items": null,
            "left": null,
            "margin": null,
            "max_height": null,
            "max_width": null,
            "min_height": null,
            "min_width": null,
            "object_fit": null,
            "object_position": null,
            "order": null,
            "overflow": null,
            "overflow_x": null,
            "overflow_y": null,
            "padding": null,
            "right": null,
            "top": null,
            "visibility": null,
            "width": null
          }
        },
        "0c4a7f09146e4fe6b0f5d7726b14824f": {
          "model_module": "@jupyter-widgets/controls",
          "model_module_version": "1.5.0",
          "model_name": "ProgressStyleModel",
          "state": {
            "_model_module": "@jupyter-widgets/controls",
            "_model_module_version": "1.5.0",
            "_model_name": "ProgressStyleModel",
            "_view_count": null,
            "_view_module": "@jupyter-widgets/base",
            "_view_module_version": "1.2.0",
            "_view_name": "StyleView",
            "bar_color": null,
            "description_width": ""
          }
        },
        "104ce6ae1e9d46ca84df2ca8873a4c9e": {
          "model_module": "@jupyter-widgets/base",
          "model_module_version": "1.2.0",
          "model_name": "LayoutModel",
          "state": {
            "_model_module": "@jupyter-widgets/base",
            "_model_module_version": "1.2.0",
            "_model_name": "LayoutModel",
            "_view_count": null,
            "_view_module": "@jupyter-widgets/base",
            "_view_module_version": "1.2.0",
            "_view_name": "LayoutView",
            "align_content": null,
            "align_items": null,
            "align_self": null,
            "border": null,
            "bottom": null,
            "display": null,
            "flex": null,
            "flex_flow": null,
            "grid_area": null,
            "grid_auto_columns": null,
            "grid_auto_flow": null,
            "grid_auto_rows": null,
            "grid_column": null,
            "grid_gap": null,
            "grid_row": null,
            "grid_template_areas": null,
            "grid_template_columns": null,
            "grid_template_rows": null,
            "height": null,
            "justify_content": null,
            "justify_items": null,
            "left": null,
            "margin": null,
            "max_height": null,
            "max_width": null,
            "min_height": null,
            "min_width": null,
            "object_fit": null,
            "object_position": null,
            "order": null,
            "overflow": null,
            "overflow_x": null,
            "overflow_y": null,
            "padding": null,
            "right": null,
            "top": null,
            "visibility": null,
            "width": null
          }
        },
        "118a062702b946eba41803c3c62fb113": {
          "model_module": "@jupyter-widgets/controls",
          "model_module_version": "1.5.0",
          "model_name": "DescriptionStyleModel",
          "state": {
            "_model_module": "@jupyter-widgets/controls",
            "_model_module_version": "1.5.0",
            "_model_name": "DescriptionStyleModel",
            "_view_count": null,
            "_view_module": "@jupyter-widgets/base",
            "_view_module_version": "1.2.0",
            "_view_name": "StyleView",
            "description_width": ""
          }
        },
        "17f5eab40e004cd3bbdf9f4a40a843e8": {
          "model_module": "@jupyter-widgets/base",
          "model_module_version": "1.2.0",
          "model_name": "LayoutModel",
          "state": {
            "_model_module": "@jupyter-widgets/base",
            "_model_module_version": "1.2.0",
            "_model_name": "LayoutModel",
            "_view_count": null,
            "_view_module": "@jupyter-widgets/base",
            "_view_module_version": "1.2.0",
            "_view_name": "LayoutView",
            "align_content": null,
            "align_items": null,
            "align_self": null,
            "border": null,
            "bottom": null,
            "display": null,
            "flex": null,
            "flex_flow": null,
            "grid_area": null,
            "grid_auto_columns": null,
            "grid_auto_flow": null,
            "grid_auto_rows": null,
            "grid_column": null,
            "grid_gap": null,
            "grid_row": null,
            "grid_template_areas": null,
            "grid_template_columns": null,
            "grid_template_rows": null,
            "height": null,
            "justify_content": null,
            "justify_items": null,
            "left": null,
            "margin": null,
            "max_height": null,
            "max_width": null,
            "min_height": null,
            "min_width": null,
            "object_fit": null,
            "object_position": null,
            "order": null,
            "overflow": null,
            "overflow_x": null,
            "overflow_y": null,
            "padding": null,
            "right": null,
            "top": null,
            "visibility": null,
            "width": null
          }
        },
        "182fd398e105427f8b815899155e218e": {
          "model_module": "@jupyter-widgets/base",
          "model_module_version": "1.2.0",
          "model_name": "LayoutModel",
          "state": {
            "_model_module": "@jupyter-widgets/base",
            "_model_module_version": "1.2.0",
            "_model_name": "LayoutModel",
            "_view_count": null,
            "_view_module": "@jupyter-widgets/base",
            "_view_module_version": "1.2.0",
            "_view_name": "LayoutView",
            "align_content": null,
            "align_items": null,
            "align_self": null,
            "border": null,
            "bottom": null,
            "display": null,
            "flex": null,
            "flex_flow": null,
            "grid_area": null,
            "grid_auto_columns": null,
            "grid_auto_flow": null,
            "grid_auto_rows": null,
            "grid_column": null,
            "grid_gap": null,
            "grid_row": null,
            "grid_template_areas": null,
            "grid_template_columns": null,
            "grid_template_rows": null,
            "height": null,
            "justify_content": null,
            "justify_items": null,
            "left": null,
            "margin": null,
            "max_height": null,
            "max_width": null,
            "min_height": null,
            "min_width": null,
            "object_fit": null,
            "object_position": null,
            "order": null,
            "overflow": null,
            "overflow_x": null,
            "overflow_y": null,
            "padding": null,
            "right": null,
            "top": null,
            "visibility": null,
            "width": null
          }
        },
        "19a4b08b31a44ef18c5c031ed07f63f9": {
          "model_module": "@jupyter-widgets/controls",
          "model_module_version": "1.5.0",
          "model_name": "FloatProgressModel",
          "state": {
            "_dom_classes": [],
            "_model_module": "@jupyter-widgets/controls",
            "_model_module_version": "1.5.0",
            "_model_name": "FloatProgressModel",
            "_view_count": null,
            "_view_module": "@jupyter-widgets/controls",
            "_view_module_version": "1.5.0",
            "_view_name": "ProgressView",
            "bar_style": "",
            "description": "",
            "description_tooltip": null,
            "layout": "IPY_MODEL_d5fc527d02654c369eebbf5c90447916",
            "max": 25000,
            "min": 0,
            "orientation": "horizontal",
            "style": "IPY_MODEL_1d6f3ce643fb4c9baa61065d27fbbc72",
            "value": 25000
          }
        },
        "1d6f3ce643fb4c9baa61065d27fbbc72": {
          "model_module": "@jupyter-widgets/controls",
          "model_module_version": "1.5.0",
          "model_name": "ProgressStyleModel",
          "state": {
            "_model_module": "@jupyter-widgets/controls",
            "_model_module_version": "1.5.0",
            "_model_name": "ProgressStyleModel",
            "_view_count": null,
            "_view_module": "@jupyter-widgets/base",
            "_view_module_version": "1.2.0",
            "_view_name": "StyleView",
            "bar_color": null,
            "description_width": ""
          }
        },
        "2006899e1bb34e419d2e293302a6b42e": {
          "model_module": "@jupyter-widgets/controls",
          "model_module_version": "1.5.0",
          "model_name": "HTMLModel",
          "state": {
            "_dom_classes": [],
            "_model_module": "@jupyter-widgets/controls",
            "_model_module_version": "1.5.0",
            "_model_name": "HTMLModel",
            "_view_count": null,
            "_view_module": "@jupyter-widgets/controls",
            "_view_module_version": "1.5.0",
            "_view_name": "HTMLView",
            "description": "",
            "description_tooltip": null,
            "layout": "IPY_MODEL_36d9e2e8ae7e4e1a9bf59f69f140f124",
            "placeholder": "​",
            "style": "IPY_MODEL_118a062702b946eba41803c3c62fb113",
            "value": "Generating splits...: 100%"
          }
        },
        "2044af73feeb4781a669b87dfa4a6925": {
          "model_module": "@jupyter-widgets/controls",
          "model_module_version": "1.5.0",
          "model_name": "HBoxModel",
          "state": {
            "_dom_classes": [],
            "_model_module": "@jupyter-widgets/controls",
            "_model_module_version": "1.5.0",
            "_model_name": "HBoxModel",
            "_view_count": null,
            "_view_module": "@jupyter-widgets/controls",
            "_view_module_version": "1.5.0",
            "_view_name": "HBoxView",
            "box_style": "",
            "children": [
              "IPY_MODEL_ac62091d08e5402e843a26be0169570a",
              "IPY_MODEL_43a98faf2120412e9f6cd600f87bc028",
              "IPY_MODEL_3d95d92b9e0143e99d456cb00054b77d"
            ],
            "layout": "IPY_MODEL_47016893bbe6496fb77e0bae94b12f51"
          }
        },
        "2144f390fdc242b38e88cab4fa7817a4": {
          "model_module": "@jupyter-widgets/controls",
          "model_module_version": "1.5.0",
          "model_name": "HBoxModel",
          "state": {
            "_dom_classes": [],
            "_model_module": "@jupyter-widgets/controls",
            "_model_module_version": "1.5.0",
            "_model_name": "HBoxModel",
            "_view_count": null,
            "_view_module": "@jupyter-widgets/controls",
            "_view_module_version": "1.5.0",
            "_view_name": "HBoxView",
            "box_style": "",
            "children": [
              "IPY_MODEL_91da8a8129c94c9f8e55c83264df9541",
              "IPY_MODEL_dd669162df924c3f8cf38f3d289ccdee",
              "IPY_MODEL_9a6cc409f3214efeb629ff538eb49247"
            ],
            "layout": "IPY_MODEL_e3e3382038fe4708b98df1ffbeb825c9"
          }
        },
        "21f0b8beddd342558e22e0266fcd3e1a": {
          "model_module": "@jupyter-widgets/base",
          "model_module_version": "1.2.0",
          "model_name": "LayoutModel",
          "state": {
            "_model_module": "@jupyter-widgets/base",
            "_model_module_version": "1.2.0",
            "_model_name": "LayoutModel",
            "_view_count": null,
            "_view_module": "@jupyter-widgets/base",
            "_view_module_version": "1.2.0",
            "_view_name": "LayoutView",
            "align_content": null,
            "align_items": null,
            "align_self": null,
            "border": null,
            "bottom": null,
            "display": null,
            "flex": null,
            "flex_flow": null,
            "grid_area": null,
            "grid_auto_columns": null,
            "grid_auto_flow": null,
            "grid_auto_rows": null,
            "grid_column": null,
            "grid_gap": null,
            "grid_row": null,
            "grid_template_areas": null,
            "grid_template_columns": null,
            "grid_template_rows": null,
            "height": null,
            "justify_content": null,
            "justify_items": null,
            "left": null,
            "margin": null,
            "max_height": null,
            "max_width": null,
            "min_height": null,
            "min_width": null,
            "object_fit": null,
            "object_position": null,
            "order": null,
            "overflow": null,
            "overflow_x": null,
            "overflow_y": null,
            "padding": null,
            "right": null,
            "top": null,
            "visibility": null,
            "width": null
          }
        },
        "24ffe1c269834c4798c7b1fc54fbcc60": {
          "model_module": "@jupyter-widgets/controls",
          "model_module_version": "1.5.0",
          "model_name": "ProgressStyleModel",
          "state": {
            "_model_module": "@jupyter-widgets/controls",
            "_model_module_version": "1.5.0",
            "_model_name": "ProgressStyleModel",
            "_view_count": null,
            "_view_module": "@jupyter-widgets/base",
            "_view_module_version": "1.2.0",
            "_view_name": "StyleView",
            "bar_color": null,
            "description_width": ""
          }
        },
        "2b29099622914a898ed70d55cf5720c8": {
          "model_module": "@jupyter-widgets/controls",
          "model_module_version": "1.5.0",
          "model_name": "HTMLModel",
          "state": {
            "_dom_classes": [],
            "_model_module": "@jupyter-widgets/controls",
            "_model_module_version": "1.5.0",
            "_model_name": "HTMLModel",
            "_view_count": null,
            "_view_module": "@jupyter-widgets/controls",
            "_view_module_version": "1.5.0",
            "_view_name": "HTMLView",
            "description": "",
            "description_tooltip": null,
            "layout": "IPY_MODEL_d41e015cb59f4f359cf2421c81134cb7",
            "placeholder": "​",
            "style": "IPY_MODEL_a6ba61683d0a4579b227962f65d63b89",
            "value": "Dl Completed...: 100%"
          }
        },
        "2c4ba845403f48d08516e502399bbc2f": {
          "model_module": "@jupyter-widgets/controls",
          "model_module_version": "1.5.0",
          "model_name": "HBoxModel",
          "state": {
            "_dom_classes": [],
            "_model_module": "@jupyter-widgets/controls",
            "_model_module_version": "1.5.0",
            "_model_name": "HBoxModel",
            "_view_count": null,
            "_view_module": "@jupyter-widgets/controls",
            "_view_module_version": "1.5.0",
            "_view_name": "HBoxView",
            "box_style": "",
            "children": [
              "IPY_MODEL_2006899e1bb34e419d2e293302a6b42e",
              "IPY_MODEL_2d7793dd5dc342c797e9def8d9645833",
              "IPY_MODEL_fbc2683709504017ade57da1c57c3c37"
            ],
            "layout": "IPY_MODEL_3a127b36ed4241b8b51d12430c4c1306"
          }
        },
        "2cb912c2858640e599d01f5a55a50e01": {
          "model_module": "@jupyter-widgets/base",
          "model_module_version": "1.2.0",
          "model_name": "LayoutModel",
          "state": {
            "_model_module": "@jupyter-widgets/base",
            "_model_module_version": "1.2.0",
            "_model_name": "LayoutModel",
            "_view_count": null,
            "_view_module": "@jupyter-widgets/base",
            "_view_module_version": "1.2.0",
            "_view_name": "LayoutView",
            "align_content": null,
            "align_items": null,
            "align_self": null,
            "border": null,
            "bottom": null,
            "display": null,
            "flex": null,
            "flex_flow": null,
            "grid_area": null,
            "grid_auto_columns": null,
            "grid_auto_flow": null,
            "grid_auto_rows": null,
            "grid_column": null,
            "grid_gap": null,
            "grid_row": null,
            "grid_template_areas": null,
            "grid_template_columns": null,
            "grid_template_rows": null,
            "height": null,
            "justify_content": null,
            "justify_items": null,
            "left": null,
            "margin": null,
            "max_height": null,
            "max_width": null,
            "min_height": null,
            "min_width": null,
            "object_fit": null,
            "object_position": null,
            "order": null,
            "overflow": null,
            "overflow_x": null,
            "overflow_y": null,
            "padding": null,
            "right": null,
            "top": null,
            "visibility": null,
            "width": null
          }
        },
        "2d11ec9da3b547b1a94797d6123b0e8a": {
          "model_module": "@jupyter-widgets/controls",
          "model_module_version": "1.5.0",
          "model_name": "DescriptionStyleModel",
          "state": {
            "_model_module": "@jupyter-widgets/controls",
            "_model_module_version": "1.5.0",
            "_model_name": "DescriptionStyleModel",
            "_view_count": null,
            "_view_module": "@jupyter-widgets/base",
            "_view_module_version": "1.2.0",
            "_view_name": "StyleView",
            "description_width": ""
          }
        },
        "2d7793dd5dc342c797e9def8d9645833": {
          "model_module": "@jupyter-widgets/controls",
          "model_module_version": "1.5.0",
          "model_name": "FloatProgressModel",
          "state": {
            "_dom_classes": [],
            "_model_module": "@jupyter-widgets/controls",
            "_model_module_version": "1.5.0",
            "_model_name": "FloatProgressModel",
            "_view_count": null,
            "_view_module": "@jupyter-widgets/controls",
            "_view_module_version": "1.5.0",
            "_view_name": "ProgressView",
            "bar_style": "",
            "description": "",
            "description_tooltip": null,
            "layout": "IPY_MODEL_104ce6ae1e9d46ca84df2ca8873a4c9e",
            "max": 3,
            "min": 0,
            "orientation": "horizontal",
            "style": "IPY_MODEL_7ea841ed363a4b9cac5503697400baa2",
            "value": 3
          }
        },
        "2e23b1c877fb4650bf0b367d5ccb70d9": {
          "model_module": "@jupyter-widgets/controls",
          "model_module_version": "1.5.0",
          "model_name": "HTMLModel",
          "state": {
            "_dom_classes": [],
            "_model_module": "@jupyter-widgets/controls",
            "_model_module_version": "1.5.0",
            "_model_name": "HTMLModel",
            "_view_count": null,
            "_view_module": "@jupyter-widgets/controls",
            "_view_module_version": "1.5.0",
            "_view_name": "HTMLView",
            "description": "",
            "description_tooltip": null,
            "layout": "IPY_MODEL_685b207e60854caf9f0c81697f534757",
            "placeholder": "​",
            "style": "IPY_MODEL_c19ddc2d1bb0466794acf9c57c6c45ed",
            "value": "Shuffling /root/tensorflow_datasets/imdb_reviews/plain_text/incomplete.CL1DHN_1.0.0/imdb_reviews-train.tfrecord*...:   0%"
          }
        },
        "2f4578dba1194f22a096a368a0def40a": {
          "model_module": "@jupyter-widgets/controls",
          "model_module_version": "1.5.0",
          "model_name": "DescriptionStyleModel",
          "state": {
            "_model_module": "@jupyter-widgets/controls",
            "_model_module_version": "1.5.0",
            "_model_name": "DescriptionStyleModel",
            "_view_count": null,
            "_view_module": "@jupyter-widgets/base",
            "_view_module_version": "1.2.0",
            "_view_name": "StyleView",
            "description_width": ""
          }
        },
        "32dd13c9d61f4176b70ead8e1291546c": {
          "model_module": "@jupyter-widgets/controls",
          "model_module_version": "1.5.0",
          "model_name": "HTMLModel",
          "state": {
            "_dom_classes": [],
            "_model_module": "@jupyter-widgets/controls",
            "_model_module_version": "1.5.0",
            "_model_name": "HTMLModel",
            "_view_count": null,
            "_view_module": "@jupyter-widgets/controls",
            "_view_module_version": "1.5.0",
            "_view_name": "HTMLView",
            "description": "",
            "description_tooltip": null,
            "layout": "IPY_MODEL_4cd5611472cb43e2ba4909ac977ac522",
            "placeholder": "​",
            "style": "IPY_MODEL_bec792e45977463fb52f35c287b4f47c",
            "value": "Generating test examples...:  97%"
          }
        },
        "3384b21754a3476997dd85b69649c369": {
          "model_module": "@jupyter-widgets/base",
          "model_module_version": "1.2.0",
          "model_name": "LayoutModel",
          "state": {
            "_model_module": "@jupyter-widgets/base",
            "_model_module_version": "1.2.0",
            "_model_name": "LayoutModel",
            "_view_count": null,
            "_view_module": "@jupyter-widgets/base",
            "_view_module_version": "1.2.0",
            "_view_name": "LayoutView",
            "align_content": null,
            "align_items": null,
            "align_self": null,
            "border": null,
            "bottom": null,
            "display": null,
            "flex": null,
            "flex_flow": null,
            "grid_area": null,
            "grid_auto_columns": null,
            "grid_auto_flow": null,
            "grid_auto_rows": null,
            "grid_column": null,
            "grid_gap": null,
            "grid_row": null,
            "grid_template_areas": null,
            "grid_template_columns": null,
            "grid_template_rows": null,
            "height": null,
            "justify_content": null,
            "justify_items": null,
            "left": null,
            "margin": null,
            "max_height": null,
            "max_width": null,
            "min_height": null,
            "min_width": null,
            "object_fit": null,
            "object_position": null,
            "order": null,
            "overflow": null,
            "overflow_x": null,
            "overflow_y": null,
            "padding": null,
            "right": null,
            "top": null,
            "visibility": null,
            "width": null
          }
        },
        "36d9e2e8ae7e4e1a9bf59f69f140f124": {
          "model_module": "@jupyter-widgets/base",
          "model_module_version": "1.2.0",
          "model_name": "LayoutModel",
          "state": {
            "_model_module": "@jupyter-widgets/base",
            "_model_module_version": "1.2.0",
            "_model_name": "LayoutModel",
            "_view_count": null,
            "_view_module": "@jupyter-widgets/base",
            "_view_module_version": "1.2.0",
            "_view_name": "LayoutView",
            "align_content": null,
            "align_items": null,
            "align_self": null,
            "border": null,
            "bottom": null,
            "display": null,
            "flex": null,
            "flex_flow": null,
            "grid_area": null,
            "grid_auto_columns": null,
            "grid_auto_flow": null,
            "grid_auto_rows": null,
            "grid_column": null,
            "grid_gap": null,
            "grid_row": null,
            "grid_template_areas": null,
            "grid_template_columns": null,
            "grid_template_rows": null,
            "height": null,
            "justify_content": null,
            "justify_items": null,
            "left": null,
            "margin": null,
            "max_height": null,
            "max_width": null,
            "min_height": null,
            "min_width": null,
            "object_fit": null,
            "object_position": null,
            "order": null,
            "overflow": null,
            "overflow_x": null,
            "overflow_y": null,
            "padding": null,
            "right": null,
            "top": null,
            "visibility": null,
            "width": null
          }
        },
        "383408fdaaa34933a9918839948e643e": {
          "model_module": "@jupyter-widgets/controls",
          "model_module_version": "1.5.0",
          "model_name": "DescriptionStyleModel",
          "state": {
            "_model_module": "@jupyter-widgets/controls",
            "_model_module_version": "1.5.0",
            "_model_name": "DescriptionStyleModel",
            "_view_count": null,
            "_view_module": "@jupyter-widgets/base",
            "_view_module_version": "1.2.0",
            "_view_name": "StyleView",
            "description_width": ""
          }
        },
        "3a127b36ed4241b8b51d12430c4c1306": {
          "model_module": "@jupyter-widgets/base",
          "model_module_version": "1.2.0",
          "model_name": "LayoutModel",
          "state": {
            "_model_module": "@jupyter-widgets/base",
            "_model_module_version": "1.2.0",
            "_model_name": "LayoutModel",
            "_view_count": null,
            "_view_module": "@jupyter-widgets/base",
            "_view_module_version": "1.2.0",
            "_view_name": "LayoutView",
            "align_content": null,
            "align_items": null,
            "align_self": null,
            "border": null,
            "bottom": null,
            "display": null,
            "flex": null,
            "flex_flow": null,
            "grid_area": null,
            "grid_auto_columns": null,
            "grid_auto_flow": null,
            "grid_auto_rows": null,
            "grid_column": null,
            "grid_gap": null,
            "grid_row": null,
            "grid_template_areas": null,
            "grid_template_columns": null,
            "grid_template_rows": null,
            "height": null,
            "justify_content": null,
            "justify_items": null,
            "left": null,
            "margin": null,
            "max_height": null,
            "max_width": null,
            "min_height": null,
            "min_width": null,
            "object_fit": null,
            "object_position": null,
            "order": null,
            "overflow": null,
            "overflow_x": null,
            "overflow_y": null,
            "padding": null,
            "right": null,
            "top": null,
            "visibility": "hidden",
            "width": null
          }
        },
        "3d95d92b9e0143e99d456cb00054b77d": {
          "model_module": "@jupyter-widgets/controls",
          "model_module_version": "1.5.0",
          "model_name": "HTMLModel",
          "state": {
            "_dom_classes": [],
            "_model_module": "@jupyter-widgets/controls",
            "_model_module_version": "1.5.0",
            "_model_name": "HTMLModel",
            "_view_count": null,
            "_view_module": "@jupyter-widgets/controls",
            "_view_module_version": "1.5.0",
            "_view_name": "HTMLView",
            "description": "",
            "description_tooltip": null,
            "layout": "IPY_MODEL_72c5f54174d04e8da7a43a45a3305aa6",
            "placeholder": "​",
            "style": "IPY_MODEL_8faa4f3d7a8e4bc88314e4838c3ae5a5",
            "value": " 0/50000 [00:00&lt;?, ? examples/s]"
          }
        },
        "4226be1dce4b40199d215f7cea7e34f4": {
          "model_module": "@jupyter-widgets/controls",
          "model_module_version": "1.5.0",
          "model_name": "ProgressStyleModel",
          "state": {
            "_model_module": "@jupyter-widgets/controls",
            "_model_module_version": "1.5.0",
            "_model_name": "ProgressStyleModel",
            "_view_count": null,
            "_view_module": "@jupyter-widgets/base",
            "_view_module_version": "1.2.0",
            "_view_name": "StyleView",
            "bar_color": null,
            "description_width": ""
          }
        },
        "4390878bd4c84f44a6487a259720ccb9": {
          "model_module": "@jupyter-widgets/controls",
          "model_module_version": "1.5.0",
          "model_name": "ProgressStyleModel",
          "state": {
            "_model_module": "@jupyter-widgets/controls",
            "_model_module_version": "1.5.0",
            "_model_name": "ProgressStyleModel",
            "_view_count": null,
            "_view_module": "@jupyter-widgets/base",
            "_view_module_version": "1.2.0",
            "_view_name": "StyleView",
            "bar_color": null,
            "description_width": ""
          }
        },
        "43a98faf2120412e9f6cd600f87bc028": {
          "model_module": "@jupyter-widgets/controls",
          "model_module_version": "1.5.0",
          "model_name": "FloatProgressModel",
          "state": {
            "_dom_classes": [],
            "_model_module": "@jupyter-widgets/controls",
            "_model_module_version": "1.5.0",
            "_model_name": "FloatProgressModel",
            "_view_count": null,
            "_view_module": "@jupyter-widgets/controls",
            "_view_module_version": "1.5.0",
            "_view_name": "ProgressView",
            "bar_style": "",
            "description": "",
            "description_tooltip": null,
            "layout": "IPY_MODEL_21f0b8beddd342558e22e0266fcd3e1a",
            "max": 50000,
            "min": 0,
            "orientation": "horizontal",
            "style": "IPY_MODEL_4390878bd4c84f44a6487a259720ccb9",
            "value": 50000
          }
        },
        "45c3e280a036494ab43aa78ecd228724": {
          "model_module": "@jupyter-widgets/base",
          "model_module_version": "1.2.0",
          "model_name": "LayoutModel",
          "state": {
            "_model_module": "@jupyter-widgets/base",
            "_model_module_version": "1.2.0",
            "_model_name": "LayoutModel",
            "_view_count": null,
            "_view_module": "@jupyter-widgets/base",
            "_view_module_version": "1.2.0",
            "_view_name": "LayoutView",
            "align_content": null,
            "align_items": null,
            "align_self": null,
            "border": null,
            "bottom": null,
            "display": null,
            "flex": null,
            "flex_flow": null,
            "grid_area": null,
            "grid_auto_columns": null,
            "grid_auto_flow": null,
            "grid_auto_rows": null,
            "grid_column": null,
            "grid_gap": null,
            "grid_row": null,
            "grid_template_areas": null,
            "grid_template_columns": null,
            "grid_template_rows": null,
            "height": null,
            "justify_content": null,
            "justify_items": null,
            "left": null,
            "margin": null,
            "max_height": null,
            "max_width": null,
            "min_height": null,
            "min_width": null,
            "object_fit": null,
            "object_position": null,
            "order": null,
            "overflow": null,
            "overflow_x": null,
            "overflow_y": null,
            "padding": null,
            "right": null,
            "top": null,
            "visibility": null,
            "width": null
          }
        },
        "47016893bbe6496fb77e0bae94b12f51": {
          "model_module": "@jupyter-widgets/base",
          "model_module_version": "1.2.0",
          "model_name": "LayoutModel",
          "state": {
            "_model_module": "@jupyter-widgets/base",
            "_model_module_version": "1.2.0",
            "_model_name": "LayoutModel",
            "_view_count": null,
            "_view_module": "@jupyter-widgets/base",
            "_view_module_version": "1.2.0",
            "_view_name": "LayoutView",
            "align_content": null,
            "align_items": null,
            "align_self": null,
            "border": null,
            "bottom": null,
            "display": null,
            "flex": null,
            "flex_flow": null,
            "grid_area": null,
            "grid_auto_columns": null,
            "grid_auto_flow": null,
            "grid_auto_rows": null,
            "grid_column": null,
            "grid_gap": null,
            "grid_row": null,
            "grid_template_areas": null,
            "grid_template_columns": null,
            "grid_template_rows": null,
            "height": null,
            "justify_content": null,
            "justify_items": null,
            "left": null,
            "margin": null,
            "max_height": null,
            "max_width": null,
            "min_height": null,
            "min_width": null,
            "object_fit": null,
            "object_position": null,
            "order": null,
            "overflow": null,
            "overflow_x": null,
            "overflow_y": null,
            "padding": null,
            "right": null,
            "top": null,
            "visibility": "hidden",
            "width": null
          }
        },
        "4b402df8f38f4554af6f33a6203d8da7": {
          "model_module": "@jupyter-widgets/controls",
          "model_module_version": "1.5.0",
          "model_name": "FloatProgressModel",
          "state": {
            "_dom_classes": [],
            "_model_module": "@jupyter-widgets/controls",
            "_model_module_version": "1.5.0",
            "_model_name": "FloatProgressModel",
            "_view_count": null,
            "_view_module": "@jupyter-widgets/controls",
            "_view_module_version": "1.5.0",
            "_view_name": "ProgressView",
            "bar_style": "success",
            "description": "",
            "description_tooltip": null,
            "layout": "IPY_MODEL_bba6f4a1a5f64ead94277a40762d6f11",
            "max": 1,
            "min": 0,
            "orientation": "horizontal",
            "style": "IPY_MODEL_0c4a7f09146e4fe6b0f5d7726b14824f",
            "value": 1
          }
        },
        "4c3c59b70c474f038f6782d8e00f6e1e": {
          "model_module": "@jupyter-widgets/controls",
          "model_module_version": "1.5.0",
          "model_name": "DescriptionStyleModel",
          "state": {
            "_model_module": "@jupyter-widgets/controls",
            "_model_module_version": "1.5.0",
            "_model_name": "DescriptionStyleModel",
            "_view_count": null,
            "_view_module": "@jupyter-widgets/base",
            "_view_module_version": "1.2.0",
            "_view_name": "StyleView",
            "description_width": ""
          }
        },
        "4cd5611472cb43e2ba4909ac977ac522": {
          "model_module": "@jupyter-widgets/base",
          "model_module_version": "1.2.0",
          "model_name": "LayoutModel",
          "state": {
            "_model_module": "@jupyter-widgets/base",
            "_model_module_version": "1.2.0",
            "_model_name": "LayoutModel",
            "_view_count": null,
            "_view_module": "@jupyter-widgets/base",
            "_view_module_version": "1.2.0",
            "_view_name": "LayoutView",
            "align_content": null,
            "align_items": null,
            "align_self": null,
            "border": null,
            "bottom": null,
            "display": null,
            "flex": null,
            "flex_flow": null,
            "grid_area": null,
            "grid_auto_columns": null,
            "grid_auto_flow": null,
            "grid_auto_rows": null,
            "grid_column": null,
            "grid_gap": null,
            "grid_row": null,
            "grid_template_areas": null,
            "grid_template_columns": null,
            "grid_template_rows": null,
            "height": null,
            "justify_content": null,
            "justify_items": null,
            "left": null,
            "margin": null,
            "max_height": null,
            "max_width": null,
            "min_height": null,
            "min_width": null,
            "object_fit": null,
            "object_position": null,
            "order": null,
            "overflow": null,
            "overflow_x": null,
            "overflow_y": null,
            "padding": null,
            "right": null,
            "top": null,
            "visibility": null,
            "width": null
          }
        },
        "596437a730b444b7b422ac493b98be77": {
          "model_module": "@jupyter-widgets/controls",
          "model_module_version": "1.5.0",
          "model_name": "HTMLModel",
          "state": {
            "_dom_classes": [],
            "_model_module": "@jupyter-widgets/controls",
            "_model_module_version": "1.5.0",
            "_model_name": "HTMLModel",
            "_view_count": null,
            "_view_module": "@jupyter-widgets/controls",
            "_view_module_version": "1.5.0",
            "_view_name": "HTMLView",
            "description": "",
            "description_tooltip": null,
            "layout": "IPY_MODEL_2cb912c2858640e599d01f5a55a50e01",
            "placeholder": "​",
            "style": "IPY_MODEL_4c3c59b70c474f038f6782d8e00f6e1e",
            "value": " 80/80 [00:12&lt;00:00, 10.93 MiB/s]"
          }
        },
        "5edd2615c6e04c3bbfa96e201e6891c9": {
          "model_module": "@jupyter-widgets/base",
          "model_module_version": "1.2.0",
          "model_name": "LayoutModel",
          "state": {
            "_model_module": "@jupyter-widgets/base",
            "_model_module_version": "1.2.0",
            "_model_name": "LayoutModel",
            "_view_count": null,
            "_view_module": "@jupyter-widgets/base",
            "_view_module_version": "1.2.0",
            "_view_name": "LayoutView",
            "align_content": null,
            "align_items": null,
            "align_self": null,
            "border": null,
            "bottom": null,
            "display": null,
            "flex": null,
            "flex_flow": null,
            "grid_area": null,
            "grid_auto_columns": null,
            "grid_auto_flow": null,
            "grid_auto_rows": null,
            "grid_column": null,
            "grid_gap": null,
            "grid_row": null,
            "grid_template_areas": null,
            "grid_template_columns": null,
            "grid_template_rows": null,
            "height": null,
            "justify_content": null,
            "justify_items": null,
            "left": null,
            "margin": null,
            "max_height": null,
            "max_width": null,
            "min_height": null,
            "min_width": null,
            "object_fit": null,
            "object_position": null,
            "order": null,
            "overflow": null,
            "overflow_x": null,
            "overflow_y": null,
            "padding": null,
            "right": null,
            "top": null,
            "visibility": null,
            "width": null
          }
        },
        "6014dee8f5094faab2ab7f2043eef2af": {
          "model_module": "@jupyter-widgets/base",
          "model_module_version": "1.2.0",
          "model_name": "LayoutModel",
          "state": {
            "_model_module": "@jupyter-widgets/base",
            "_model_module_version": "1.2.0",
            "_model_name": "LayoutModel",
            "_view_count": null,
            "_view_module": "@jupyter-widgets/base",
            "_view_module_version": "1.2.0",
            "_view_name": "LayoutView",
            "align_content": null,
            "align_items": null,
            "align_self": null,
            "border": null,
            "bottom": null,
            "display": null,
            "flex": null,
            "flex_flow": null,
            "grid_area": null,
            "grid_auto_columns": null,
            "grid_auto_flow": null,
            "grid_auto_rows": null,
            "grid_column": null,
            "grid_gap": null,
            "grid_row": null,
            "grid_template_areas": null,
            "grid_template_columns": null,
            "grid_template_rows": null,
            "height": null,
            "justify_content": null,
            "justify_items": null,
            "left": null,
            "margin": null,
            "max_height": null,
            "max_width": null,
            "min_height": null,
            "min_width": null,
            "object_fit": null,
            "object_position": null,
            "order": null,
            "overflow": null,
            "overflow_x": null,
            "overflow_y": null,
            "padding": null,
            "right": null,
            "top": null,
            "visibility": null,
            "width": null
          }
        },
        "61a6c592316f492f93d2c41427703a29": {
          "model_module": "@jupyter-widgets/controls",
          "model_module_version": "1.5.0",
          "model_name": "HTMLModel",
          "state": {
            "_dom_classes": [],
            "_model_module": "@jupyter-widgets/controls",
            "_model_module_version": "1.5.0",
            "_model_name": "HTMLModel",
            "_view_count": null,
            "_view_module": "@jupyter-widgets/controls",
            "_view_module_version": "1.5.0",
            "_view_name": "HTMLView",
            "description": "",
            "description_tooltip": null,
            "layout": "IPY_MODEL_0ba1c8a114704cf7888e31bbba6bd4ed",
            "placeholder": "​",
            "style": "IPY_MODEL_97721e891b7e400b91a3e2ef36fc4e83",
            "value": " 20970/25000 [00:08&lt;00:01, 3561.34 examples/s]"
          }
        },
        "644e4ff5a6fc4df7b8c4834adbb30ad7": {
          "model_module": "@jupyter-widgets/controls",
          "model_module_version": "1.5.0",
          "model_name": "HBoxModel",
          "state": {
            "_dom_classes": [],
            "_model_module": "@jupyter-widgets/controls",
            "_model_module_version": "1.5.0",
            "_model_name": "HBoxModel",
            "_view_count": null,
            "_view_module": "@jupyter-widgets/controls",
            "_view_module_version": "1.5.0",
            "_view_name": "HBoxView",
            "box_style": "",
            "children": [
              "IPY_MODEL_7f00a623591f4ea3b38206a998307b66",
              "IPY_MODEL_4b402df8f38f4554af6f33a6203d8da7",
              "IPY_MODEL_596437a730b444b7b422ac493b98be77"
            ],
            "layout": "IPY_MODEL_d1a56000609b46108c0272ac52d48c05"
          }
        },
        "651b69d18edc4c00bded1aa3fefd8f54": {
          "model_module": "@jupyter-widgets/base",
          "model_module_version": "1.2.0",
          "model_name": "LayoutModel",
          "state": {
            "_model_module": "@jupyter-widgets/base",
            "_model_module_version": "1.2.0",
            "_model_name": "LayoutModel",
            "_view_count": null,
            "_view_module": "@jupyter-widgets/base",
            "_view_module_version": "1.2.0",
            "_view_name": "LayoutView",
            "align_content": null,
            "align_items": null,
            "align_self": null,
            "border": null,
            "bottom": null,
            "display": null,
            "flex": null,
            "flex_flow": null,
            "grid_area": null,
            "grid_auto_columns": null,
            "grid_auto_flow": null,
            "grid_auto_rows": null,
            "grid_column": null,
            "grid_gap": null,
            "grid_row": null,
            "grid_template_areas": null,
            "grid_template_columns": null,
            "grid_template_rows": null,
            "height": null,
            "justify_content": null,
            "justify_items": null,
            "left": null,
            "margin": null,
            "max_height": null,
            "max_width": null,
            "min_height": null,
            "min_width": null,
            "object_fit": null,
            "object_position": null,
            "order": null,
            "overflow": null,
            "overflow_x": null,
            "overflow_y": null,
            "padding": null,
            "right": null,
            "top": null,
            "visibility": "hidden",
            "width": null
          }
        },
        "653e55c06aa045eeb0b9881fbe1706de": {
          "model_module": "@jupyter-widgets/controls",
          "model_module_version": "1.5.0",
          "model_name": "ProgressStyleModel",
          "state": {
            "_model_module": "@jupyter-widgets/controls",
            "_model_module_version": "1.5.0",
            "_model_name": "ProgressStyleModel",
            "_view_count": null,
            "_view_module": "@jupyter-widgets/base",
            "_view_module_version": "1.2.0",
            "_view_name": "StyleView",
            "bar_color": null,
            "description_width": ""
          }
        },
        "685b207e60854caf9f0c81697f534757": {
          "model_module": "@jupyter-widgets/base",
          "model_module_version": "1.2.0",
          "model_name": "LayoutModel",
          "state": {
            "_model_module": "@jupyter-widgets/base",
            "_model_module_version": "1.2.0",
            "_model_name": "LayoutModel",
            "_view_count": null,
            "_view_module": "@jupyter-widgets/base",
            "_view_module_version": "1.2.0",
            "_view_name": "LayoutView",
            "align_content": null,
            "align_items": null,
            "align_self": null,
            "border": null,
            "bottom": null,
            "display": null,
            "flex": null,
            "flex_flow": null,
            "grid_area": null,
            "grid_auto_columns": null,
            "grid_auto_flow": null,
            "grid_auto_rows": null,
            "grid_column": null,
            "grid_gap": null,
            "grid_row": null,
            "grid_template_areas": null,
            "grid_template_columns": null,
            "grid_template_rows": null,
            "height": null,
            "justify_content": null,
            "justify_items": null,
            "left": null,
            "margin": null,
            "max_height": null,
            "max_width": null,
            "min_height": null,
            "min_width": null,
            "object_fit": null,
            "object_position": null,
            "order": null,
            "overflow": null,
            "overflow_x": null,
            "overflow_y": null,
            "padding": null,
            "right": null,
            "top": null,
            "visibility": null,
            "width": null
          }
        },
        "72c5f54174d04e8da7a43a45a3305aa6": {
          "model_module": "@jupyter-widgets/base",
          "model_module_version": "1.2.0",
          "model_name": "LayoutModel",
          "state": {
            "_model_module": "@jupyter-widgets/base",
            "_model_module_version": "1.2.0",
            "_model_name": "LayoutModel",
            "_view_count": null,
            "_view_module": "@jupyter-widgets/base",
            "_view_module_version": "1.2.0",
            "_view_name": "LayoutView",
            "align_content": null,
            "align_items": null,
            "align_self": null,
            "border": null,
            "bottom": null,
            "display": null,
            "flex": null,
            "flex_flow": null,
            "grid_area": null,
            "grid_auto_columns": null,
            "grid_auto_flow": null,
            "grid_auto_rows": null,
            "grid_column": null,
            "grid_gap": null,
            "grid_row": null,
            "grid_template_areas": null,
            "grid_template_columns": null,
            "grid_template_rows": null,
            "height": null,
            "justify_content": null,
            "justify_items": null,
            "left": null,
            "margin": null,
            "max_height": null,
            "max_width": null,
            "min_height": null,
            "min_width": null,
            "object_fit": null,
            "object_position": null,
            "order": null,
            "overflow": null,
            "overflow_x": null,
            "overflow_y": null,
            "padding": null,
            "right": null,
            "top": null,
            "visibility": null,
            "width": null
          }
        },
        "73366e2ca8e94cd5813da23462cd8def": {
          "model_module": "@jupyter-widgets/controls",
          "model_module_version": "1.5.0",
          "model_name": "HBoxModel",
          "state": {
            "_dom_classes": [],
            "_model_module": "@jupyter-widgets/controls",
            "_model_module_version": "1.5.0",
            "_model_name": "HBoxModel",
            "_view_count": null,
            "_view_module": "@jupyter-widgets/controls",
            "_view_module_version": "1.5.0",
            "_view_name": "HBoxView",
            "box_style": "",
            "children": [
              "IPY_MODEL_2e23b1c877fb4650bf0b367d5ccb70d9",
              "IPY_MODEL_19a4b08b31a44ef18c5c031ed07f63f9",
              "IPY_MODEL_ffc5781d554b4e6e91b86e7996cb87a2"
            ],
            "layout": "IPY_MODEL_a9460f75b5fb4dceb6882b210c7365fd"
          }
        },
        "73f0ec9ace8d471c8600fee6784628b0": {
          "model_module": "@jupyter-widgets/controls",
          "model_module_version": "1.5.0",
          "model_name": "DescriptionStyleModel",
          "state": {
            "_model_module": "@jupyter-widgets/controls",
            "_model_module_version": "1.5.0",
            "_model_name": "DescriptionStyleModel",
            "_view_count": null,
            "_view_module": "@jupyter-widgets/base",
            "_view_module_version": "1.2.0",
            "_view_name": "StyleView",
            "description_width": ""
          }
        },
        "779baf86f6ef4836acc485212231bb20": {
          "model_module": "@jupyter-widgets/base",
          "model_module_version": "1.2.0",
          "model_name": "LayoutModel",
          "state": {
            "_model_module": "@jupyter-widgets/base",
            "_model_module_version": "1.2.0",
            "_model_name": "LayoutModel",
            "_view_count": null,
            "_view_module": "@jupyter-widgets/base",
            "_view_module_version": "1.2.0",
            "_view_name": "LayoutView",
            "align_content": null,
            "align_items": null,
            "align_self": null,
            "border": null,
            "bottom": null,
            "display": null,
            "flex": null,
            "flex_flow": null,
            "grid_area": null,
            "grid_auto_columns": null,
            "grid_auto_flow": null,
            "grid_auto_rows": null,
            "grid_column": null,
            "grid_gap": null,
            "grid_row": null,
            "grid_template_areas": null,
            "grid_template_columns": null,
            "grid_template_rows": null,
            "height": null,
            "justify_content": null,
            "justify_items": null,
            "left": null,
            "margin": null,
            "max_height": null,
            "max_width": null,
            "min_height": null,
            "min_width": null,
            "object_fit": null,
            "object_position": null,
            "order": null,
            "overflow": null,
            "overflow_x": null,
            "overflow_y": null,
            "padding": null,
            "right": null,
            "top": null,
            "visibility": null,
            "width": null
          }
        },
        "7ea841ed363a4b9cac5503697400baa2": {
          "model_module": "@jupyter-widgets/controls",
          "model_module_version": "1.5.0",
          "model_name": "ProgressStyleModel",
          "state": {
            "_model_module": "@jupyter-widgets/controls",
            "_model_module_version": "1.5.0",
            "_model_name": "ProgressStyleModel",
            "_view_count": null,
            "_view_module": "@jupyter-widgets/base",
            "_view_module_version": "1.2.0",
            "_view_name": "StyleView",
            "bar_color": null,
            "description_width": ""
          }
        },
        "7f00a623591f4ea3b38206a998307b66": {
          "model_module": "@jupyter-widgets/controls",
          "model_module_version": "1.5.0",
          "model_name": "HTMLModel",
          "state": {
            "_dom_classes": [],
            "_model_module": "@jupyter-widgets/controls",
            "_model_module_version": "1.5.0",
            "_model_name": "HTMLModel",
            "_view_count": null,
            "_view_module": "@jupyter-widgets/controls",
            "_view_module_version": "1.5.0",
            "_view_name": "HTMLView",
            "description": "",
            "description_tooltip": null,
            "layout": "IPY_MODEL_3384b21754a3476997dd85b69649c369",
            "placeholder": "​",
            "style": "IPY_MODEL_bd10592986524e04a866af91a153eae9",
            "value": "Dl Size...: 100%"
          }
        },
        "7fede0eb57284b8d88ffa74d4ab1c83a": {
          "model_module": "@jupyter-widgets/controls",
          "model_module_version": "1.5.0",
          "model_name": "DescriptionStyleModel",
          "state": {
            "_model_module": "@jupyter-widgets/controls",
            "_model_module_version": "1.5.0",
            "_model_name": "DescriptionStyleModel",
            "_view_count": null,
            "_view_module": "@jupyter-widgets/base",
            "_view_module_version": "1.2.0",
            "_view_name": "StyleView",
            "description_width": ""
          }
        },
        "8929cc29a6a441d2b84f8c97b463518b": {
          "model_module": "@jupyter-widgets/controls",
          "model_module_version": "1.5.0",
          "model_name": "DescriptionStyleModel",
          "state": {
            "_model_module": "@jupyter-widgets/controls",
            "_model_module_version": "1.5.0",
            "_model_name": "DescriptionStyleModel",
            "_view_count": null,
            "_view_module": "@jupyter-widgets/base",
            "_view_module_version": "1.2.0",
            "_view_name": "StyleView",
            "description_width": ""
          }
        },
        "89a3f772571249ccb0cbc7df277d5054": {
          "model_module": "@jupyter-widgets/base",
          "model_module_version": "1.2.0",
          "model_name": "LayoutModel",
          "state": {
            "_model_module": "@jupyter-widgets/base",
            "_model_module_version": "1.2.0",
            "_model_name": "LayoutModel",
            "_view_count": null,
            "_view_module": "@jupyter-widgets/base",
            "_view_module_version": "1.2.0",
            "_view_name": "LayoutView",
            "align_content": null,
            "align_items": null,
            "align_self": null,
            "border": null,
            "bottom": null,
            "display": null,
            "flex": null,
            "flex_flow": null,
            "grid_area": null,
            "grid_auto_columns": null,
            "grid_auto_flow": null,
            "grid_auto_rows": null,
            "grid_column": null,
            "grid_gap": null,
            "grid_row": null,
            "grid_template_areas": null,
            "grid_template_columns": null,
            "grid_template_rows": null,
            "height": null,
            "justify_content": null,
            "justify_items": null,
            "left": null,
            "margin": null,
            "max_height": null,
            "max_width": null,
            "min_height": null,
            "min_width": null,
            "object_fit": null,
            "object_position": null,
            "order": null,
            "overflow": null,
            "overflow_x": null,
            "overflow_y": null,
            "padding": null,
            "right": null,
            "top": null,
            "visibility": null,
            "width": null
          }
        },
        "8a138a2e5baa4db7a6ec24ee2a8922cf": {
          "model_module": "@jupyter-widgets/base",
          "model_module_version": "1.2.0",
          "model_name": "LayoutModel",
          "state": {
            "_model_module": "@jupyter-widgets/base",
            "_model_module_version": "1.2.0",
            "_model_name": "LayoutModel",
            "_view_count": null,
            "_view_module": "@jupyter-widgets/base",
            "_view_module_version": "1.2.0",
            "_view_name": "LayoutView",
            "align_content": null,
            "align_items": null,
            "align_self": null,
            "border": null,
            "bottom": null,
            "display": null,
            "flex": null,
            "flex_flow": null,
            "grid_area": null,
            "grid_auto_columns": null,
            "grid_auto_flow": null,
            "grid_auto_rows": null,
            "grid_column": null,
            "grid_gap": null,
            "grid_row": null,
            "grid_template_areas": null,
            "grid_template_columns": null,
            "grid_template_rows": null,
            "height": null,
            "justify_content": null,
            "justify_items": null,
            "left": null,
            "margin": null,
            "max_height": null,
            "max_width": null,
            "min_height": null,
            "min_width": null,
            "object_fit": null,
            "object_position": null,
            "order": null,
            "overflow": null,
            "overflow_x": null,
            "overflow_y": null,
            "padding": null,
            "right": null,
            "top": null,
            "visibility": null,
            "width": null
          }
        },
        "8a71b68ab08c4377a978175b670f19d9": {
          "model_module": "@jupyter-widgets/base",
          "model_module_version": "1.2.0",
          "model_name": "LayoutModel",
          "state": {
            "_model_module": "@jupyter-widgets/base",
            "_model_module_version": "1.2.0",
            "_model_name": "LayoutModel",
            "_view_count": null,
            "_view_module": "@jupyter-widgets/base",
            "_view_module_version": "1.2.0",
            "_view_name": "LayoutView",
            "align_content": null,
            "align_items": null,
            "align_self": null,
            "border": null,
            "bottom": null,
            "display": null,
            "flex": null,
            "flex_flow": null,
            "grid_area": null,
            "grid_auto_columns": null,
            "grid_auto_flow": null,
            "grid_auto_rows": null,
            "grid_column": null,
            "grid_gap": null,
            "grid_row": null,
            "grid_template_areas": null,
            "grid_template_columns": null,
            "grid_template_rows": null,
            "height": null,
            "justify_content": null,
            "justify_items": null,
            "left": null,
            "margin": null,
            "max_height": null,
            "max_width": null,
            "min_height": null,
            "min_width": null,
            "object_fit": null,
            "object_position": null,
            "order": null,
            "overflow": null,
            "overflow_x": null,
            "overflow_y": null,
            "padding": null,
            "right": null,
            "top": null,
            "visibility": null,
            "width": null
          }
        },
        "8c67485ca3344f438a764411e051e65c": {
          "model_module": "@jupyter-widgets/controls",
          "model_module_version": "1.5.0",
          "model_name": "FloatProgressModel",
          "state": {
            "_dom_classes": [],
            "_model_module": "@jupyter-widgets/controls",
            "_model_module_version": "1.5.0",
            "_model_name": "FloatProgressModel",
            "_view_count": null,
            "_view_module": "@jupyter-widgets/controls",
            "_view_module_version": "1.5.0",
            "_view_name": "ProgressView",
            "bar_style": "",
            "description": "",
            "description_tooltip": null,
            "layout": "IPY_MODEL_93989be534224100862062d7c5dc22db",
            "max": 50000,
            "min": 0,
            "orientation": "horizontal",
            "style": "IPY_MODEL_653e55c06aa045eeb0b9881fbe1706de",
            "value": 50000
          }
        },
        "8faa4f3d7a8e4bc88314e4838c3ae5a5": {
          "model_module": "@jupyter-widgets/controls",
          "model_module_version": "1.5.0",
          "model_name": "DescriptionStyleModel",
          "state": {
            "_model_module": "@jupyter-widgets/controls",
            "_model_module_version": "1.5.0",
            "_model_name": "DescriptionStyleModel",
            "_view_count": null,
            "_view_module": "@jupyter-widgets/base",
            "_view_module_version": "1.2.0",
            "_view_name": "StyleView",
            "description_width": ""
          }
        },
        "91da8a8129c94c9f8e55c83264df9541": {
          "model_module": "@jupyter-widgets/controls",
          "model_module_version": "1.5.0",
          "model_name": "HTMLModel",
          "state": {
            "_dom_classes": [],
            "_model_module": "@jupyter-widgets/controls",
            "_model_module_version": "1.5.0",
            "_model_name": "HTMLModel",
            "_view_count": null,
            "_view_module": "@jupyter-widgets/controls",
            "_view_module_version": "1.5.0",
            "_view_name": "HTMLView",
            "description": "",
            "description_tooltip": null,
            "layout": "IPY_MODEL_17f5eab40e004cd3bbdf9f4a40a843e8",
            "placeholder": "​",
            "style": "IPY_MODEL_fb5174e2b79f4bc8ac2a97a9ff4614fa",
            "value": "Shuffling /root/tensorflow_datasets/imdb_reviews/plain_text/incomplete.CL1DHN_1.0.0/imdb_reviews-test.tfrecord*...:   0%"
          }
        },
        "93989be534224100862062d7c5dc22db": {
          "model_module": "@jupyter-widgets/base",
          "model_module_version": "1.2.0",
          "model_name": "LayoutModel",
          "state": {
            "_model_module": "@jupyter-widgets/base",
            "_model_module_version": "1.2.0",
            "_model_name": "LayoutModel",
            "_view_count": null,
            "_view_module": "@jupyter-widgets/base",
            "_view_module_version": "1.2.0",
            "_view_name": "LayoutView",
            "align_content": null,
            "align_items": null,
            "align_self": null,
            "border": null,
            "bottom": null,
            "display": null,
            "flex": null,
            "flex_flow": null,
            "grid_area": null,
            "grid_auto_columns": null,
            "grid_auto_flow": null,
            "grid_auto_rows": null,
            "grid_column": null,
            "grid_gap": null,
            "grid_row": null,
            "grid_template_areas": null,
            "grid_template_columns": null,
            "grid_template_rows": null,
            "height": null,
            "justify_content": null,
            "justify_items": null,
            "left": null,
            "margin": null,
            "max_height": null,
            "max_width": null,
            "min_height": null,
            "min_width": null,
            "object_fit": null,
            "object_position": null,
            "order": null,
            "overflow": null,
            "overflow_x": null,
            "overflow_y": null,
            "padding": null,
            "right": null,
            "top": null,
            "visibility": null,
            "width": null
          }
        },
        "96109cf6a2334add945bcc75e90f3fb9": {
          "model_module": "@jupyter-widgets/controls",
          "model_module_version": "1.5.0",
          "model_name": "HTMLModel",
          "state": {
            "_dom_classes": [],
            "_model_module": "@jupyter-widgets/controls",
            "_model_module_version": "1.5.0",
            "_model_name": "HTMLModel",
            "_view_count": null,
            "_view_module": "@jupyter-widgets/controls",
            "_view_module_version": "1.5.0",
            "_view_name": "HTMLView",
            "description": "",
            "description_tooltip": null,
            "layout": "IPY_MODEL_89a3f772571249ccb0cbc7df277d5054",
            "placeholder": "​",
            "style": "IPY_MODEL_73f0ec9ace8d471c8600fee6784628b0",
            "value": " 24358/25000 [00:07&lt;00:00, 4074.02 examples/s]"
          }
        },
        "97721e891b7e400b91a3e2ef36fc4e83": {
          "model_module": "@jupyter-widgets/controls",
          "model_module_version": "1.5.0",
          "model_name": "DescriptionStyleModel",
          "state": {
            "_model_module": "@jupyter-widgets/controls",
            "_model_module_version": "1.5.0",
            "_model_name": "DescriptionStyleModel",
            "_view_count": null,
            "_view_module": "@jupyter-widgets/base",
            "_view_module_version": "1.2.0",
            "_view_name": "StyleView",
            "description_width": ""
          }
        },
        "9a21f447d79c43fe87c0bb6c43e1d455": {
          "model_module": "@jupyter-widgets/controls",
          "model_module_version": "1.5.0",
          "model_name": "ProgressStyleModel",
          "state": {
            "_model_module": "@jupyter-widgets/controls",
            "_model_module_version": "1.5.0",
            "_model_name": "ProgressStyleModel",
            "_view_count": null,
            "_view_module": "@jupyter-widgets/base",
            "_view_module_version": "1.2.0",
            "_view_name": "StyleView",
            "bar_color": null,
            "description_width": ""
          }
        },
        "9a6cc409f3214efeb629ff538eb49247": {
          "model_module": "@jupyter-widgets/controls",
          "model_module_version": "1.5.0",
          "model_name": "HTMLModel",
          "state": {
            "_dom_classes": [],
            "_model_module": "@jupyter-widgets/controls",
            "_model_module_version": "1.5.0",
            "_model_name": "HTMLModel",
            "_view_count": null,
            "_view_module": "@jupyter-widgets/controls",
            "_view_module_version": "1.5.0",
            "_view_name": "HTMLView",
            "description": "",
            "description_tooltip": null,
            "layout": "IPY_MODEL_6014dee8f5094faab2ab7f2043eef2af",
            "placeholder": "​",
            "style": "IPY_MODEL_2d11ec9da3b547b1a94797d6123b0e8a",
            "value": " 0/25000 [00:00&lt;?, ? examples/s]"
          }
        },
        "a6ba61683d0a4579b227962f65d63b89": {
          "model_module": "@jupyter-widgets/controls",
          "model_module_version": "1.5.0",
          "model_name": "DescriptionStyleModel",
          "state": {
            "_model_module": "@jupyter-widgets/controls",
            "_model_module_version": "1.5.0",
            "_model_name": "DescriptionStyleModel",
            "_view_count": null,
            "_view_module": "@jupyter-widgets/base",
            "_view_module_version": "1.2.0",
            "_view_name": "StyleView",
            "description_width": ""
          }
        },
        "a6d412cd48c24dc3a2517d58038a1ed9": {
          "model_module": "@jupyter-widgets/controls",
          "model_module_version": "1.5.0",
          "model_name": "DescriptionStyleModel",
          "state": {
            "_model_module": "@jupyter-widgets/controls",
            "_model_module_version": "1.5.0",
            "_model_name": "DescriptionStyleModel",
            "_view_count": null,
            "_view_module": "@jupyter-widgets/base",
            "_view_module_version": "1.2.0",
            "_view_name": "StyleView",
            "description_width": ""
          }
        },
        "a7cd3b6498994497871d56a7251c49ba": {
          "model_module": "@jupyter-widgets/controls",
          "model_module_version": "1.5.0",
          "model_name": "HTMLModel",
          "state": {
            "_dom_classes": [],
            "_model_module": "@jupyter-widgets/controls",
            "_model_module_version": "1.5.0",
            "_model_name": "HTMLModel",
            "_view_count": null,
            "_view_module": "@jupyter-widgets/controls",
            "_view_module_version": "1.5.0",
            "_view_name": "HTMLView",
            "description": "",
            "description_tooltip": null,
            "layout": "IPY_MODEL_182fd398e105427f8b815899155e218e",
            "placeholder": "​",
            "style": "IPY_MODEL_c6ee878f804b4c7f862afd78178eb9fc",
            "value": " 48676/50000 [00:15&lt;00:00, 4193.11 examples/s]"
          }
        },
        "a8c6663cbf0641b0bc588e1248301dac": {
          "model_module": "@jupyter-widgets/controls",
          "model_module_version": "1.5.0",
          "model_name": "FloatProgressModel",
          "state": {
            "_dom_classes": [],
            "_model_module": "@jupyter-widgets/controls",
            "_model_module_version": "1.5.0",
            "_model_name": "FloatProgressModel",
            "_view_count": null,
            "_view_module": "@jupyter-widgets/controls",
            "_view_module_version": "1.5.0",
            "_view_name": "ProgressView",
            "bar_style": "",
            "description": "",
            "description_tooltip": null,
            "layout": "IPY_MODEL_8a71b68ab08c4377a978175b670f19d9",
            "max": 25000,
            "min": 0,
            "orientation": "horizontal",
            "style": "IPY_MODEL_9a21f447d79c43fe87c0bb6c43e1d455",
            "value": 25000
          }
        },
        "a9460f75b5fb4dceb6882b210c7365fd": {
          "model_module": "@jupyter-widgets/base",
          "model_module_version": "1.2.0",
          "model_name": "LayoutModel",
          "state": {
            "_model_module": "@jupyter-widgets/base",
            "_model_module_version": "1.2.0",
            "_model_name": "LayoutModel",
            "_view_count": null,
            "_view_module": "@jupyter-widgets/base",
            "_view_module_version": "1.2.0",
            "_view_name": "LayoutView",
            "align_content": null,
            "align_items": null,
            "align_self": null,
            "border": null,
            "bottom": null,
            "display": null,
            "flex": null,
            "flex_flow": null,
            "grid_area": null,
            "grid_auto_columns": null,
            "grid_auto_flow": null,
            "grid_auto_rows": null,
            "grid_column": null,
            "grid_gap": null,
            "grid_row": null,
            "grid_template_areas": null,
            "grid_template_columns": null,
            "grid_template_rows": null,
            "height": null,
            "justify_content": null,
            "justify_items": null,
            "left": null,
            "margin": null,
            "max_height": null,
            "max_width": null,
            "min_height": null,
            "min_width": null,
            "object_fit": null,
            "object_position": null,
            "order": null,
            "overflow": null,
            "overflow_x": null,
            "overflow_y": null,
            "padding": null,
            "right": null,
            "top": null,
            "visibility": "hidden",
            "width": null
          }
        },
        "ac62091d08e5402e843a26be0169570a": {
          "model_module": "@jupyter-widgets/controls",
          "model_module_version": "1.5.0",
          "model_name": "HTMLModel",
          "state": {
            "_dom_classes": [],
            "_model_module": "@jupyter-widgets/controls",
            "_model_module_version": "1.5.0",
            "_model_name": "HTMLModel",
            "_view_count": null,
            "_view_module": "@jupyter-widgets/controls",
            "_view_module_version": "1.5.0",
            "_view_name": "HTMLView",
            "description": "",
            "description_tooltip": null,
            "layout": "IPY_MODEL_45c3e280a036494ab43aa78ecd228724",
            "placeholder": "​",
            "style": "IPY_MODEL_f573f92d0375445cb1112fbbb1b2c069",
            "value": "Shuffling /root/tensorflow_datasets/imdb_reviews/plain_text/incomplete.CL1DHN_1.0.0/imdb_reviews-unsupervised.tfrecord*...:   0%"
          }
        },
        "b5731825e06146bdad98791552890ff4": {
          "model_module": "@jupyter-widgets/controls",
          "model_module_version": "1.5.0",
          "model_name": "HTMLModel",
          "state": {
            "_dom_classes": [],
            "_model_module": "@jupyter-widgets/controls",
            "_model_module_version": "1.5.0",
            "_model_name": "HTMLModel",
            "_view_count": null,
            "_view_module": "@jupyter-widgets/controls",
            "_view_module_version": "1.5.0",
            "_view_name": "HTMLView",
            "description": "",
            "description_tooltip": null,
            "layout": "IPY_MODEL_779baf86f6ef4836acc485212231bb20",
            "placeholder": "​",
            "style": "IPY_MODEL_a6d412cd48c24dc3a2517d58038a1ed9",
            "value": " 1/1 [00:12&lt;00:00, 12.06s/ url]"
          }
        },
        "b5fa3375a8bd4e628481c190bdae0473": {
          "model_module": "@jupyter-widgets/controls",
          "model_module_version": "1.5.0",
          "model_name": "HBoxModel",
          "state": {
            "_dom_classes": [],
            "_model_module": "@jupyter-widgets/controls",
            "_model_module_version": "1.5.0",
            "_model_name": "HBoxModel",
            "_view_count": null,
            "_view_module": "@jupyter-widgets/controls",
            "_view_module_version": "1.5.0",
            "_view_name": "HBoxView",
            "box_style": "",
            "children": [
              "IPY_MODEL_f20b14ca876049d3b72f5058df41b18c",
              "IPY_MODEL_8c67485ca3344f438a764411e051e65c",
              "IPY_MODEL_a7cd3b6498994497871d56a7251c49ba"
            ],
            "layout": "IPY_MODEL_f4c5fa746dba4f8b896f64d646082345"
          }
        },
        "bba6f4a1a5f64ead94277a40762d6f11": {
          "model_module": "@jupyter-widgets/base",
          "model_module_version": "1.2.0",
          "model_name": "LayoutModel",
          "state": {
            "_model_module": "@jupyter-widgets/base",
            "_model_module_version": "1.2.0",
            "_model_name": "LayoutModel",
            "_view_count": null,
            "_view_module": "@jupyter-widgets/base",
            "_view_module_version": "1.2.0",
            "_view_name": "LayoutView",
            "align_content": null,
            "align_items": null,
            "align_self": null,
            "border": null,
            "bottom": null,
            "display": null,
            "flex": null,
            "flex_flow": null,
            "grid_area": null,
            "grid_auto_columns": null,
            "grid_auto_flow": null,
            "grid_auto_rows": null,
            "grid_column": null,
            "grid_gap": null,
            "grid_row": null,
            "grid_template_areas": null,
            "grid_template_columns": null,
            "grid_template_rows": null,
            "height": null,
            "justify_content": null,
            "justify_items": null,
            "left": null,
            "margin": null,
            "max_height": null,
            "max_width": null,
            "min_height": null,
            "min_width": null,
            "object_fit": null,
            "object_position": null,
            "order": null,
            "overflow": null,
            "overflow_x": null,
            "overflow_y": null,
            "padding": null,
            "right": null,
            "top": null,
            "visibility": null,
            "width": "20px"
          }
        },
        "bd10592986524e04a866af91a153eae9": {
          "model_module": "@jupyter-widgets/controls",
          "model_module_version": "1.5.0",
          "model_name": "DescriptionStyleModel",
          "state": {
            "_model_module": "@jupyter-widgets/controls",
            "_model_module_version": "1.5.0",
            "_model_name": "DescriptionStyleModel",
            "_view_count": null,
            "_view_module": "@jupyter-widgets/base",
            "_view_module_version": "1.2.0",
            "_view_name": "StyleView",
            "description_width": ""
          }
        },
        "bec792e45977463fb52f35c287b4f47c": {
          "model_module": "@jupyter-widgets/controls",
          "model_module_version": "1.5.0",
          "model_name": "DescriptionStyleModel",
          "state": {
            "_model_module": "@jupyter-widgets/controls",
            "_model_module_version": "1.5.0",
            "_model_name": "DescriptionStyleModel",
            "_view_count": null,
            "_view_module": "@jupyter-widgets/base",
            "_view_module_version": "1.2.0",
            "_view_name": "StyleView",
            "description_width": ""
          }
        },
        "bef86f3e3d884117aca6ead6f5c9dab1": {
          "model_module": "@jupyter-widgets/base",
          "model_module_version": "1.2.0",
          "model_name": "LayoutModel",
          "state": {
            "_model_module": "@jupyter-widgets/base",
            "_model_module_version": "1.2.0",
            "_model_name": "LayoutModel",
            "_view_count": null,
            "_view_module": "@jupyter-widgets/base",
            "_view_module_version": "1.2.0",
            "_view_name": "LayoutView",
            "align_content": null,
            "align_items": null,
            "align_self": null,
            "border": null,
            "bottom": null,
            "display": null,
            "flex": null,
            "flex_flow": null,
            "grid_area": null,
            "grid_auto_columns": null,
            "grid_auto_flow": null,
            "grid_auto_rows": null,
            "grid_column": null,
            "grid_gap": null,
            "grid_row": null,
            "grid_template_areas": null,
            "grid_template_columns": null,
            "grid_template_rows": null,
            "height": null,
            "justify_content": null,
            "justify_items": null,
            "left": null,
            "margin": null,
            "max_height": null,
            "max_width": null,
            "min_height": null,
            "min_width": null,
            "object_fit": null,
            "object_position": null,
            "order": null,
            "overflow": null,
            "overflow_x": null,
            "overflow_y": null,
            "padding": null,
            "right": null,
            "top": null,
            "visibility": null,
            "width": "20px"
          }
        },
        "c19ddc2d1bb0466794acf9c57c6c45ed": {
          "model_module": "@jupyter-widgets/controls",
          "model_module_version": "1.5.0",
          "model_name": "DescriptionStyleModel",
          "state": {
            "_model_module": "@jupyter-widgets/controls",
            "_model_module_version": "1.5.0",
            "_model_name": "DescriptionStyleModel",
            "_view_count": null,
            "_view_module": "@jupyter-widgets/base",
            "_view_module_version": "1.2.0",
            "_view_name": "StyleView",
            "description_width": ""
          }
        },
        "c42eda9bcbeb44e793f378f3ee6a55c5": {
          "model_module": "@jupyter-widgets/base",
          "model_module_version": "1.2.0",
          "model_name": "LayoutModel",
          "state": {
            "_model_module": "@jupyter-widgets/base",
            "_model_module_version": "1.2.0",
            "_model_name": "LayoutModel",
            "_view_count": null,
            "_view_module": "@jupyter-widgets/base",
            "_view_module_version": "1.2.0",
            "_view_name": "LayoutView",
            "align_content": null,
            "align_items": null,
            "align_self": null,
            "border": null,
            "bottom": null,
            "display": null,
            "flex": null,
            "flex_flow": null,
            "grid_area": null,
            "grid_auto_columns": null,
            "grid_auto_flow": null,
            "grid_auto_rows": null,
            "grid_column": null,
            "grid_gap": null,
            "grid_row": null,
            "grid_template_areas": null,
            "grid_template_columns": null,
            "grid_template_rows": null,
            "height": null,
            "justify_content": null,
            "justify_items": null,
            "left": null,
            "margin": null,
            "max_height": null,
            "max_width": null,
            "min_height": null,
            "min_width": null,
            "object_fit": null,
            "object_position": null,
            "order": null,
            "overflow": null,
            "overflow_x": null,
            "overflow_y": null,
            "padding": null,
            "right": null,
            "top": null,
            "visibility": null,
            "width": null
          }
        },
        "c6ee878f804b4c7f862afd78178eb9fc": {
          "model_module": "@jupyter-widgets/controls",
          "model_module_version": "1.5.0",
          "model_name": "DescriptionStyleModel",
          "state": {
            "_model_module": "@jupyter-widgets/controls",
            "_model_module_version": "1.5.0",
            "_model_name": "DescriptionStyleModel",
            "_view_count": null,
            "_view_module": "@jupyter-widgets/base",
            "_view_module_version": "1.2.0",
            "_view_name": "StyleView",
            "description_width": ""
          }
        },
        "c9a7270632a94c68a394e1d14665bef0": {
          "model_module": "@jupyter-widgets/controls",
          "model_module_version": "1.5.0",
          "model_name": "FloatProgressModel",
          "state": {
            "_dom_classes": [],
            "_model_module": "@jupyter-widgets/controls",
            "_model_module_version": "1.5.0",
            "_model_name": "FloatProgressModel",
            "_view_count": null,
            "_view_module": "@jupyter-widgets/controls",
            "_view_module_version": "1.5.0",
            "_view_name": "ProgressView",
            "bar_style": "success",
            "description": "",
            "description_tooltip": null,
            "layout": "IPY_MODEL_bef86f3e3d884117aca6ead6f5c9dab1",
            "max": 1,
            "min": 0,
            "orientation": "horizontal",
            "style": "IPY_MODEL_e1f503756d324f8a83aaa04547799092",
            "value": 1
          }
        },
        "d1a56000609b46108c0272ac52d48c05": {
          "model_module": "@jupyter-widgets/base",
          "model_module_version": "1.2.0",
          "model_name": "LayoutModel",
          "state": {
            "_model_module": "@jupyter-widgets/base",
            "_model_module_version": "1.2.0",
            "_model_name": "LayoutModel",
            "_view_count": null,
            "_view_module": "@jupyter-widgets/base",
            "_view_module_version": "1.2.0",
            "_view_name": "LayoutView",
            "align_content": null,
            "align_items": null,
            "align_self": null,
            "border": null,
            "bottom": null,
            "display": null,
            "flex": null,
            "flex_flow": null,
            "grid_area": null,
            "grid_auto_columns": null,
            "grid_auto_flow": null,
            "grid_auto_rows": null,
            "grid_column": null,
            "grid_gap": null,
            "grid_row": null,
            "grid_template_areas": null,
            "grid_template_columns": null,
            "grid_template_rows": null,
            "height": null,
            "justify_content": null,
            "justify_items": null,
            "left": null,
            "margin": null,
            "max_height": null,
            "max_width": null,
            "min_height": null,
            "min_width": null,
            "object_fit": null,
            "object_position": null,
            "order": null,
            "overflow": null,
            "overflow_x": null,
            "overflow_y": null,
            "padding": null,
            "right": null,
            "top": null,
            "visibility": null,
            "width": null
          }
        },
        "d41e015cb59f4f359cf2421c81134cb7": {
          "model_module": "@jupyter-widgets/base",
          "model_module_version": "1.2.0",
          "model_name": "LayoutModel",
          "state": {
            "_model_module": "@jupyter-widgets/base",
            "_model_module_version": "1.2.0",
            "_model_name": "LayoutModel",
            "_view_count": null,
            "_view_module": "@jupyter-widgets/base",
            "_view_module_version": "1.2.0",
            "_view_name": "LayoutView",
            "align_content": null,
            "align_items": null,
            "align_self": null,
            "border": null,
            "bottom": null,
            "display": null,
            "flex": null,
            "flex_flow": null,
            "grid_area": null,
            "grid_auto_columns": null,
            "grid_auto_flow": null,
            "grid_auto_rows": null,
            "grid_column": null,
            "grid_gap": null,
            "grid_row": null,
            "grid_template_areas": null,
            "grid_template_columns": null,
            "grid_template_rows": null,
            "height": null,
            "justify_content": null,
            "justify_items": null,
            "left": null,
            "margin": null,
            "max_height": null,
            "max_width": null,
            "min_height": null,
            "min_width": null,
            "object_fit": null,
            "object_position": null,
            "order": null,
            "overflow": null,
            "overflow_x": null,
            "overflow_y": null,
            "padding": null,
            "right": null,
            "top": null,
            "visibility": null,
            "width": null
          }
        },
        "d5fc527d02654c369eebbf5c90447916": {
          "model_module": "@jupyter-widgets/base",
          "model_module_version": "1.2.0",
          "model_name": "LayoutModel",
          "state": {
            "_model_module": "@jupyter-widgets/base",
            "_model_module_version": "1.2.0",
            "_model_name": "LayoutModel",
            "_view_count": null,
            "_view_module": "@jupyter-widgets/base",
            "_view_module_version": "1.2.0",
            "_view_name": "LayoutView",
            "align_content": null,
            "align_items": null,
            "align_self": null,
            "border": null,
            "bottom": null,
            "display": null,
            "flex": null,
            "flex_flow": null,
            "grid_area": null,
            "grid_auto_columns": null,
            "grid_auto_flow": null,
            "grid_auto_rows": null,
            "grid_column": null,
            "grid_gap": null,
            "grid_row": null,
            "grid_template_areas": null,
            "grid_template_columns": null,
            "grid_template_rows": null,
            "height": null,
            "justify_content": null,
            "justify_items": null,
            "left": null,
            "margin": null,
            "max_height": null,
            "max_width": null,
            "min_height": null,
            "min_width": null,
            "object_fit": null,
            "object_position": null,
            "order": null,
            "overflow": null,
            "overflow_x": null,
            "overflow_y": null,
            "padding": null,
            "right": null,
            "top": null,
            "visibility": null,
            "width": null
          }
        },
        "da7f1f90639e4b95ba558c8f6133a104": {
          "model_module": "@jupyter-widgets/controls",
          "model_module_version": "1.5.0",
          "model_name": "HBoxModel",
          "state": {
            "_dom_classes": [],
            "_model_module": "@jupyter-widgets/controls",
            "_model_module_version": "1.5.0",
            "_model_name": "HBoxModel",
            "_view_count": null,
            "_view_module": "@jupyter-widgets/controls",
            "_view_module_version": "1.5.0",
            "_view_name": "HBoxView",
            "box_style": "",
            "children": [
              "IPY_MODEL_2b29099622914a898ed70d55cf5720c8",
              "IPY_MODEL_c9a7270632a94c68a394e1d14665bef0",
              "IPY_MODEL_b5731825e06146bdad98791552890ff4"
            ],
            "layout": "IPY_MODEL_8a138a2e5baa4db7a6ec24ee2a8922cf"
          }
        },
        "dbd01e60dc1345eda1e7b5a8803b2f9d": {
          "model_module": "@jupyter-widgets/base",
          "model_module_version": "1.2.0",
          "model_name": "LayoutModel",
          "state": {
            "_model_module": "@jupyter-widgets/base",
            "_model_module_version": "1.2.0",
            "_model_name": "LayoutModel",
            "_view_count": null,
            "_view_module": "@jupyter-widgets/base",
            "_view_module_version": "1.2.0",
            "_view_name": "LayoutView",
            "align_content": null,
            "align_items": null,
            "align_self": null,
            "border": null,
            "bottom": null,
            "display": null,
            "flex": null,
            "flex_flow": null,
            "grid_area": null,
            "grid_auto_columns": null,
            "grid_auto_flow": null,
            "grid_auto_rows": null,
            "grid_column": null,
            "grid_gap": null,
            "grid_row": null,
            "grid_template_areas": null,
            "grid_template_columns": null,
            "grid_template_rows": null,
            "height": null,
            "justify_content": null,
            "justify_items": null,
            "left": null,
            "margin": null,
            "max_height": null,
            "max_width": null,
            "min_height": null,
            "min_width": null,
            "object_fit": null,
            "object_position": null,
            "order": null,
            "overflow": null,
            "overflow_x": null,
            "overflow_y": null,
            "padding": null,
            "right": null,
            "top": null,
            "visibility": null,
            "width": null
          }
        },
        "dd37a50c47e54d86bc0baa1c95e400eb": {
          "model_module": "@jupyter-widgets/controls",
          "model_module_version": "1.5.0",
          "model_name": "HBoxModel",
          "state": {
            "_dom_classes": [],
            "_model_module": "@jupyter-widgets/controls",
            "_model_module_version": "1.5.0",
            "_model_name": "HBoxModel",
            "_view_count": null,
            "_view_module": "@jupyter-widgets/controls",
            "_view_module_version": "1.5.0",
            "_view_name": "HBoxView",
            "box_style": "",
            "children": [
              "IPY_MODEL_32dd13c9d61f4176b70ead8e1291546c",
              "IPY_MODEL_a8c6663cbf0641b0bc588e1248301dac",
              "IPY_MODEL_96109cf6a2334add945bcc75e90f3fb9"
            ],
            "layout": "IPY_MODEL_651b69d18edc4c00bded1aa3fefd8f54"
          }
        },
        "dd669162df924c3f8cf38f3d289ccdee": {
          "model_module": "@jupyter-widgets/controls",
          "model_module_version": "1.5.0",
          "model_name": "FloatProgressModel",
          "state": {
            "_dom_classes": [],
            "_model_module": "@jupyter-widgets/controls",
            "_model_module_version": "1.5.0",
            "_model_name": "FloatProgressModel",
            "_view_count": null,
            "_view_module": "@jupyter-widgets/controls",
            "_view_module_version": "1.5.0",
            "_view_name": "ProgressView",
            "bar_style": "",
            "description": "",
            "description_tooltip": null,
            "layout": "IPY_MODEL_dbd01e60dc1345eda1e7b5a8803b2f9d",
            "max": 25000,
            "min": 0,
            "orientation": "horizontal",
            "style": "IPY_MODEL_24ffe1c269834c4798c7b1fc54fbcc60",
            "value": 25000
          }
        },
        "e1f503756d324f8a83aaa04547799092": {
          "model_module": "@jupyter-widgets/controls",
          "model_module_version": "1.5.0",
          "model_name": "ProgressStyleModel",
          "state": {
            "_model_module": "@jupyter-widgets/controls",
            "_model_module_version": "1.5.0",
            "_model_name": "ProgressStyleModel",
            "_view_count": null,
            "_view_module": "@jupyter-widgets/base",
            "_view_module_version": "1.2.0",
            "_view_name": "StyleView",
            "bar_color": null,
            "description_width": ""
          }
        },
        "e36b1404fabb4dd7ad5894c68b1d1ffe": {
          "model_module": "@jupyter-widgets/base",
          "model_module_version": "1.2.0",
          "model_name": "LayoutModel",
          "state": {
            "_model_module": "@jupyter-widgets/base",
            "_model_module_version": "1.2.0",
            "_model_name": "LayoutModel",
            "_view_count": null,
            "_view_module": "@jupyter-widgets/base",
            "_view_module_version": "1.2.0",
            "_view_name": "LayoutView",
            "align_content": null,
            "align_items": null,
            "align_self": null,
            "border": null,
            "bottom": null,
            "display": null,
            "flex": null,
            "flex_flow": null,
            "grid_area": null,
            "grid_auto_columns": null,
            "grid_auto_flow": null,
            "grid_auto_rows": null,
            "grid_column": null,
            "grid_gap": null,
            "grid_row": null,
            "grid_template_areas": null,
            "grid_template_columns": null,
            "grid_template_rows": null,
            "height": null,
            "justify_content": null,
            "justify_items": null,
            "left": null,
            "margin": null,
            "max_height": null,
            "max_width": null,
            "min_height": null,
            "min_width": null,
            "object_fit": null,
            "object_position": null,
            "order": null,
            "overflow": null,
            "overflow_x": null,
            "overflow_y": null,
            "padding": null,
            "right": null,
            "top": null,
            "visibility": null,
            "width": null
          }
        },
        "e3e3382038fe4708b98df1ffbeb825c9": {
          "model_module": "@jupyter-widgets/base",
          "model_module_version": "1.2.0",
          "model_name": "LayoutModel",
          "state": {
            "_model_module": "@jupyter-widgets/base",
            "_model_module_version": "1.2.0",
            "_model_name": "LayoutModel",
            "_view_count": null,
            "_view_module": "@jupyter-widgets/base",
            "_view_module_version": "1.2.0",
            "_view_name": "LayoutView",
            "align_content": null,
            "align_items": null,
            "align_self": null,
            "border": null,
            "bottom": null,
            "display": null,
            "flex": null,
            "flex_flow": null,
            "grid_area": null,
            "grid_auto_columns": null,
            "grid_auto_flow": null,
            "grid_auto_rows": null,
            "grid_column": null,
            "grid_gap": null,
            "grid_row": null,
            "grid_template_areas": null,
            "grid_template_columns": null,
            "grid_template_rows": null,
            "height": null,
            "justify_content": null,
            "justify_items": null,
            "left": null,
            "margin": null,
            "max_height": null,
            "max_width": null,
            "min_height": null,
            "min_width": null,
            "object_fit": null,
            "object_position": null,
            "order": null,
            "overflow": null,
            "overflow_x": null,
            "overflow_y": null,
            "padding": null,
            "right": null,
            "top": null,
            "visibility": "hidden",
            "width": null
          }
        },
        "e4b9978daf7949bca1aac18725c67939": {
          "model_module": "@jupyter-widgets/base",
          "model_module_version": "1.2.0",
          "model_name": "LayoutModel",
          "state": {
            "_model_module": "@jupyter-widgets/base",
            "_model_module_version": "1.2.0",
            "_model_name": "LayoutModel",
            "_view_count": null,
            "_view_module": "@jupyter-widgets/base",
            "_view_module_version": "1.2.0",
            "_view_name": "LayoutView",
            "align_content": null,
            "align_items": null,
            "align_self": null,
            "border": null,
            "bottom": null,
            "display": null,
            "flex": null,
            "flex_flow": null,
            "grid_area": null,
            "grid_auto_columns": null,
            "grid_auto_flow": null,
            "grid_auto_rows": null,
            "grid_column": null,
            "grid_gap": null,
            "grid_row": null,
            "grid_template_areas": null,
            "grid_template_columns": null,
            "grid_template_rows": null,
            "height": null,
            "justify_content": null,
            "justify_items": null,
            "left": null,
            "margin": null,
            "max_height": null,
            "max_width": null,
            "min_height": null,
            "min_width": null,
            "object_fit": null,
            "object_position": null,
            "order": null,
            "overflow": null,
            "overflow_x": null,
            "overflow_y": null,
            "padding": null,
            "right": null,
            "top": null,
            "visibility": null,
            "width": null
          }
        },
        "ec85b7742e894e64a7789ea31f313a85": {
          "model_module": "@jupyter-widgets/controls",
          "model_module_version": "1.5.0",
          "model_name": "FloatProgressModel",
          "state": {
            "_dom_classes": [],
            "_model_module": "@jupyter-widgets/controls",
            "_model_module_version": "1.5.0",
            "_model_name": "FloatProgressModel",
            "_view_count": null,
            "_view_module": "@jupyter-widgets/controls",
            "_view_module_version": "1.5.0",
            "_view_name": "ProgressView",
            "bar_style": "",
            "description": "",
            "description_tooltip": null,
            "layout": "IPY_MODEL_c42eda9bcbeb44e793f378f3ee6a55c5",
            "max": 25000,
            "min": 0,
            "orientation": "horizontal",
            "style": "IPY_MODEL_4226be1dce4b40199d215f7cea7e34f4",
            "value": 25000
          }
        },
        "f20b14ca876049d3b72f5058df41b18c": {
          "model_module": "@jupyter-widgets/controls",
          "model_module_version": "1.5.0",
          "model_name": "HTMLModel",
          "state": {
            "_dom_classes": [],
            "_model_module": "@jupyter-widgets/controls",
            "_model_module_version": "1.5.0",
            "_model_name": "HTMLModel",
            "_view_count": null,
            "_view_module": "@jupyter-widgets/controls",
            "_view_module_version": "1.5.0",
            "_view_name": "HTMLView",
            "description": "",
            "description_tooltip": null,
            "layout": "IPY_MODEL_5edd2615c6e04c3bbfa96e201e6891c9",
            "placeholder": "​",
            "style": "IPY_MODEL_7fede0eb57284b8d88ffa74d4ab1c83a",
            "value": "Generating unsupervised examples...:  97%"
          }
        },
        "f4c5fa746dba4f8b896f64d646082345": {
          "model_module": "@jupyter-widgets/base",
          "model_module_version": "1.2.0",
          "model_name": "LayoutModel",
          "state": {
            "_model_module": "@jupyter-widgets/base",
            "_model_module_version": "1.2.0",
            "_model_name": "LayoutModel",
            "_view_count": null,
            "_view_module": "@jupyter-widgets/base",
            "_view_module_version": "1.2.0",
            "_view_name": "LayoutView",
            "align_content": null,
            "align_items": null,
            "align_self": null,
            "border": null,
            "bottom": null,
            "display": null,
            "flex": null,
            "flex_flow": null,
            "grid_area": null,
            "grid_auto_columns": null,
            "grid_auto_flow": null,
            "grid_auto_rows": null,
            "grid_column": null,
            "grid_gap": null,
            "grid_row": null,
            "grid_template_areas": null,
            "grid_template_columns": null,
            "grid_template_rows": null,
            "height": null,
            "justify_content": null,
            "justify_items": null,
            "left": null,
            "margin": null,
            "max_height": null,
            "max_width": null,
            "min_height": null,
            "min_width": null,
            "object_fit": null,
            "object_position": null,
            "order": null,
            "overflow": null,
            "overflow_x": null,
            "overflow_y": null,
            "padding": null,
            "right": null,
            "top": null,
            "visibility": "hidden",
            "width": null
          }
        },
        "f50c3a287b194febb0d251497489c332": {
          "model_module": "@jupyter-widgets/controls",
          "model_module_version": "1.5.0",
          "model_name": "HBoxModel",
          "state": {
            "_dom_classes": [],
            "_model_module": "@jupyter-widgets/controls",
            "_model_module_version": "1.5.0",
            "_model_name": "HBoxModel",
            "_view_count": null,
            "_view_module": "@jupyter-widgets/controls",
            "_view_module_version": "1.5.0",
            "_view_name": "HBoxView",
            "box_style": "",
            "children": [
              "IPY_MODEL_fcd86f0b94a744b5b54f582f30298fe2",
              "IPY_MODEL_ec85b7742e894e64a7789ea31f313a85",
              "IPY_MODEL_61a6c592316f492f93d2c41427703a29"
            ],
            "layout": "IPY_MODEL_033daa40fdbc4fc5bed1aeb7e7bdf490"
          }
        },
        "f573f92d0375445cb1112fbbb1b2c069": {
          "model_module": "@jupyter-widgets/controls",
          "model_module_version": "1.5.0",
          "model_name": "DescriptionStyleModel",
          "state": {
            "_model_module": "@jupyter-widgets/controls",
            "_model_module_version": "1.5.0",
            "_model_name": "DescriptionStyleModel",
            "_view_count": null,
            "_view_module": "@jupyter-widgets/base",
            "_view_module_version": "1.2.0",
            "_view_name": "StyleView",
            "description_width": ""
          }
        },
        "fb5174e2b79f4bc8ac2a97a9ff4614fa": {
          "model_module": "@jupyter-widgets/controls",
          "model_module_version": "1.5.0",
          "model_name": "DescriptionStyleModel",
          "state": {
            "_model_module": "@jupyter-widgets/controls",
            "_model_module_version": "1.5.0",
            "_model_name": "DescriptionStyleModel",
            "_view_count": null,
            "_view_module": "@jupyter-widgets/base",
            "_view_module_version": "1.2.0",
            "_view_name": "StyleView",
            "description_width": ""
          }
        },
        "fbc2683709504017ade57da1c57c3c37": {
          "model_module": "@jupyter-widgets/controls",
          "model_module_version": "1.5.0",
          "model_name": "HTMLModel",
          "state": {
            "_dom_classes": [],
            "_model_module": "@jupyter-widgets/controls",
            "_model_module_version": "1.5.0",
            "_model_name": "HTMLModel",
            "_view_count": null,
            "_view_module": "@jupyter-widgets/controls",
            "_view_module_version": "1.5.0",
            "_view_name": "HTMLView",
            "description": "",
            "description_tooltip": null,
            "layout": "IPY_MODEL_e36b1404fabb4dd7ad5894c68b1d1ffe",
            "placeholder": "​",
            "style": "IPY_MODEL_383408fdaaa34933a9918839948e643e",
            "value": " 3/3 [00:42&lt;00:00, 14.62s/ splits]"
          }
        },
        "fcd86f0b94a744b5b54f582f30298fe2": {
          "model_module": "@jupyter-widgets/controls",
          "model_module_version": "1.5.0",
          "model_name": "HTMLModel",
          "state": {
            "_dom_classes": [],
            "_model_module": "@jupyter-widgets/controls",
            "_model_module_version": "1.5.0",
            "_model_name": "HTMLModel",
            "_view_count": null,
            "_view_module": "@jupyter-widgets/controls",
            "_view_module_version": "1.5.0",
            "_view_name": "HTMLView",
            "description": "",
            "description_tooltip": null,
            "layout": "IPY_MODEL_fd8b023a9b0644ccb8cb35043cf550de",
            "placeholder": "​",
            "style": "IPY_MODEL_8929cc29a6a441d2b84f8c97b463518b",
            "value": "Generating train examples...:  84%"
          }
        },
        "fd8b023a9b0644ccb8cb35043cf550de": {
          "model_module": "@jupyter-widgets/base",
          "model_module_version": "1.2.0",
          "model_name": "LayoutModel",
          "state": {
            "_model_module": "@jupyter-widgets/base",
            "_model_module_version": "1.2.0",
            "_model_name": "LayoutModel",
            "_view_count": null,
            "_view_module": "@jupyter-widgets/base",
            "_view_module_version": "1.2.0",
            "_view_name": "LayoutView",
            "align_content": null,
            "align_items": null,
            "align_self": null,
            "border": null,
            "bottom": null,
            "display": null,
            "flex": null,
            "flex_flow": null,
            "grid_area": null,
            "grid_auto_columns": null,
            "grid_auto_flow": null,
            "grid_auto_rows": null,
            "grid_column": null,
            "grid_gap": null,
            "grid_row": null,
            "grid_template_areas": null,
            "grid_template_columns": null,
            "grid_template_rows": null,
            "height": null,
            "justify_content": null,
            "justify_items": null,
            "left": null,
            "margin": null,
            "max_height": null,
            "max_width": null,
            "min_height": null,
            "min_width": null,
            "object_fit": null,
            "object_position": null,
            "order": null,
            "overflow": null,
            "overflow_x": null,
            "overflow_y": null,
            "padding": null,
            "right": null,
            "top": null,
            "visibility": null,
            "width": null
          }
        },
        "ffc5781d554b4e6e91b86e7996cb87a2": {
          "model_module": "@jupyter-widgets/controls",
          "model_module_version": "1.5.0",
          "model_name": "HTMLModel",
          "state": {
            "_dom_classes": [],
            "_model_module": "@jupyter-widgets/controls",
            "_model_module_version": "1.5.0",
            "_model_name": "HTMLModel",
            "_view_count": null,
            "_view_module": "@jupyter-widgets/controls",
            "_view_module_version": "1.5.0",
            "_view_name": "HTMLView",
            "description": "",
            "description_tooltip": null,
            "layout": "IPY_MODEL_e4b9978daf7949bca1aac18725c67939",
            "placeholder": "​",
            "style": "IPY_MODEL_2f4578dba1194f22a096a368a0def40a",
            "value": " 0/25000 [00:00&lt;?, ? examples/s]"
          }
        }
      }
    }
  },
  "nbformat": 4,
  "nbformat_minor": 0
}